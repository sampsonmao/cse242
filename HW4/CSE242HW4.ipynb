{
 "cells": [
  {
   "cell_type": "markdown",
   "metadata": {},
   "source": [
    "# Kernel methods with noisy setting"
   ]
  },
  {
   "cell_type": "markdown",
   "metadata": {},
   "source": [
    "## (a)"
   ]
  },
  {
   "cell_type": "code",
   "execution_count": 1,
   "metadata": {},
   "outputs": [],
   "source": [
    "import scipy.stats as stats\n",
    "import numpy as np\n",
    "np.random.seed(100)\n",
    "plus_train = stats.multivariate_normal.rvs(mean=[1,1], cov=[[1,0],[0,1]], size=1000)\n",
    "minus_train = stats.multivariate_normal.rvs(mean=[-1,-1], cov=[[3,0],[0,3]], size=1000)\n",
    "train = np.concatenate((plus_train,minus_train))\n",
    "plus_test = stats.multivariate_normal.rvs(mean=[1,1], cov=[[1,0],[0,1]], size=1000)\n",
    "minus_test = stats.multivariate_normal.rvs(mean=[-1,-1], cov=[[3,0],[0,3]], size=1000)\n",
    "test = np.concatenate((plus_test,minus_test))\n",
    "\n",
    "train_labels = np.array([1] * 1000 + [-1] * 1000)\n",
    "test_labels = np.array([1] * 1000 + [-1] * 1000)"
   ]
  },
  {
   "cell_type": "code",
   "execution_count": 2,
   "metadata": {},
   "outputs": [],
   "source": [
    "def flip_labels(labels):\n",
    "    to_minus_prob = np.concatenate((stats.uniform.rvs(size=1000), np.ones(1000)))\n",
    "    to_plus_prob = np.concatenate((np.ones(1000),stats.uniform.rvs(size=1000)))\n",
    "    randomized_labels = labels.copy()\n",
    "    randomized_labels[to_minus_prob <= 0.35] = -1\n",
    "    randomized_labels[to_plus_prob <= 0.2] = 1\n",
    "    return(randomized_labels)"
   ]
  },
  {
   "cell_type": "code",
   "execution_count": 3,
   "metadata": {},
   "outputs": [
    {
     "data": {
      "text/plain": [
       "0.8102499999999999"
      ]
     },
     "execution_count": 3,
     "metadata": {},
     "output_type": "execute_result"
    }
   ],
   "source": [
    "from sklearn.svm import SVC\n",
    "\n",
    "np.random.seed(2020)\n",
    "a_accuracy = []\n",
    "a_sums = []\n",
    "for i in range(20):\n",
    "    noisy_labels = flip_labels(train_labels)\n",
    "    a_sums.append(sum(noisy_labels))\n",
    "    svm_a = SVC(kernel=\"rbf\", C=1, gamma=0.01)\n",
    "    svm_a.fit(train,noisy_labels)\n",
    "    a_accuracy.append(svm_a.score(test, test_labels))\n",
    "np.mean(a_accuracy)"
   ]
  },
  {
   "cell_type": "markdown",
   "metadata": {},
   "source": [
    "The average is around 0.81"
   ]
  },
  {
   "cell_type": "markdown",
   "metadata": {},
   "source": [
    "## (b)"
   ]
  },
  {
   "cell_type": "code",
   "execution_count": 4,
   "metadata": {},
   "outputs": [
    {
     "data": {
      "text/plain": [
       "0.8528249999999999"
      ]
     },
     "execution_count": 4,
     "metadata": {},
     "output_type": "execute_result"
    }
   ],
   "source": [
    "from sklearn.neighbors import KNeighborsClassifier\n",
    "\n",
    "np.random.seed(2020)\n",
    "b_accuracy = []\n",
    "b_sums = []\n",
    "for i in range(20):\n",
    "    noisy_labels = flip_labels(train_labels)\n",
    "    KNN = KNeighborsClassifier(n_neighbors=19)\n",
    "    KNN.fit(train, noisy_labels)\n",
    "    fixed_labels = KNN.predict(train)\n",
    "    b_sums.append(sum(fixed_labels))\n",
    "    svm_b = SVC(kernel=\"rbf\", C=1, gamma=0.01)\n",
    "    svm_b.fit(train,fixed_labels)\n",
    "    b_accuracy.append(svm_b.score(test, test_labels))\n",
    "np.mean(b_accuracy)"
   ]
  },
  {
   "cell_type": "code",
   "execution_count": 5,
   "metadata": {},
   "outputs": [
    {
     "data": {
      "text/plain": [
       "array([0.8435, 0.8535, 0.8545, 0.8485, 0.845 , 0.851 , 0.861 , 0.8505,\n",
       "       0.8495, 0.855 , 0.8395, 0.855 , 0.8525, 0.862 , 0.858 , 0.8575,\n",
       "       0.858 , 0.8675, 0.8465, 0.848 ])"
      ]
     },
     "execution_count": 5,
     "metadata": {},
     "output_type": "execute_result"
    }
   ],
   "source": [
    "np.transpose(b_accuracy)"
   ]
  },
  {
   "cell_type": "markdown",
   "metadata": {},
   "source": [
    "$k$ was chosen empirically and 19 seems to give the highest accuracy. It looks like there is a definite improvement, around 5%. Though we repeated the process 20 times to make sure the improvement is not by chance, it seems that each time is higher than 80\\% anyway."
   ]
  },
  {
   "cell_type": "markdown",
   "metadata": {},
   "source": [
    "## (c)"
   ]
  },
  {
   "cell_type": "code",
   "execution_count": 6,
   "metadata": {},
   "outputs": [
    {
     "data": {
      "text/plain": [
       "0.39635"
      ]
     },
     "execution_count": 6,
     "metadata": {},
     "output_type": "execute_result"
    }
   ],
   "source": [
    "from sklearn.cluster import KMeans\n",
    "\n",
    "np.random.seed(2020)\n",
    "c_accuracy = []\n",
    "c_sums = []\n",
    "for i in range(20):\n",
    "    noisy_labels = flip_labels(train_labels)\n",
    "    KM = KMeans(n_clusters=2)\n",
    "    KM.fit(train)\n",
    "    fixed_labels_KM = KM.predict(train)\n",
    "    fixed_labels_KM[fixed_labels_KM == 0] = -1\n",
    "    c_sums.append(sum(fixed_labels_KM))\n",
    "    svm_c = SVC(kernel=\"rbf\", C=1, gamma=0.01)\n",
    "    svm_c.fit(train, fixed_labels_KM)\n",
    "    c_accuracy.append(svm_c.score(test, test_labels))\n",
    "np.mean(c_accuracy)"
   ]
  },
  {
   "cell_type": "code",
   "execution_count": 7,
   "metadata": {},
   "outputs": [
    {
     "data": {
      "text/plain": [
       "array([[ 0.97198463,  0.91039327],\n",
       "       [-1.54659148, -1.46298677]])"
      ]
     },
     "execution_count": 7,
     "metadata": {},
     "output_type": "execute_result"
    }
   ],
   "source": [
    "KM.cluster_centers_"
   ]
  },
  {
   "cell_type": "markdown",
   "metadata": {},
   "source": [
    "$k$ was chosen to be 2 because we know that there are 2 clusters. There is a marked decrease in performance. One of the cluster centers (0.972, 0.910) was close to the mean we used to generate the data, but the other is not, which explains why. Also, increasing this parameter seems to make the accuracy worse. Overall, this method seems to make the data noisier and would not be recommended as a way to \"fix\" the labels."
   ]
  },
  {
   "cell_type": "markdown",
   "metadata": {},
   "source": [
    "# Fairness"
   ]
  },
  {
   "cell_type": "code",
   "execution_count": 8,
   "metadata": {},
   "outputs": [
    {
     "data": {
      "text/plain": [
       "['casearrest',\n",
       " 'charge',\n",
       " 'compas',\n",
       " 'jailhistory',\n",
       " 'people',\n",
       " 'prisonhistory',\n",
       " 'summary']"
      ]
     },
     "execution_count": 8,
     "metadata": {},
     "output_type": "execute_result"
    }
   ],
   "source": [
    "import sqlalchemy\n",
    "engine = sqlalchemy.create_engine('sqlite:///compas.db')\n",
    "inspector = sqlalchemy.inspect(engine)\n",
    "inspector.get_table_names()"
   ]
  },
  {
   "cell_type": "code",
   "execution_count": 9,
   "metadata": {},
   "outputs": [
    {
     "data": {
      "text/plain": [
       "[(1, 'miguel', 'hernandez', 56418, 58393, 64352, 'PRETRIAL', 'Risk and Prescreen', 'Intake', 'Pretrial', 'Jail Inmate', 'Single', '2013-08-14 00:00:00.000000', 1, 'Low', 'Low', 7, 'Risk of Violence', -4.31, 1, 1),\n",
       " (2, 'miguel', 'hernandez', 56418, 58393, 64352, 'PRETRIAL', 'Risk and Prescreen', 'Intake', 'Pretrial', 'Jail Inmate', 'Single', '2013-08-14 00:00:00.000000', 1, 'Low', 'Low', 8, 'Risk of Recidivism', -2.78, 1, 1),\n",
       " (3, 'miguel', 'hernandez', 56418, 58393, 64352, 'PRETRIAL', 'Risk and Prescreen', 'Intake', 'Pretrial', 'Jail Inmate', 'Single', '2013-08-14 00:00:00.000000', 1, 'Low', 'Low', 18, 'Risk of Failure to Appear', 13, 1, 1),\n",
       " (4, 'michael', 'ryan', 68603, 72042, 79669, 'PRETRIAL', 'Risk and Prescreen', 'Intake', 'Pretrial', 'Jail Inmate', 'Single', '2014-12-31 00:00:00.000000', 1, 'Low', 'Low', 7, 'Risk of Violence', -2.75, 2, 2),\n",
       " (5, 'michael', 'ryan', 68603, 72042, 79669, 'PRETRIAL', 'Risk and Prescreen', 'Intake', 'Pretrial', 'Jail Inmate', 'Single', '2014-12-31 00:00:00.000000', 1, 'Low', 'Medium', 8, 'Risk of Recidivism', -0.34, 5, 2),\n",
       " (6, 'michael', 'ryan', 68603, 72042, 79669, 'PRETRIAL', 'Risk and Prescreen', 'Intake', 'Pretrial', 'Jail Inmate', 'Single', '2014-12-31 00:00:00.000000', 1, 'Low', 'Low', 18, 'Risk of Failure to Appear', 16, 2, 2),\n",
       " (7, 'kevon', 'dixon', 51601, 52796, 58102, 'PRETRIAL', 'Risk and Prescreen', 'Intake', 'Pretrial', 'Jail Inmate', 'Single', '2013-01-27 00:00:00.000000', 1, 'Low', 'Low', 7, 'Risk of Violence', -3.07, 1, 3),\n",
       " (8, 'kevon', 'dixon', 51601, 52796, 58102, 'PRETRIAL', 'Risk and Prescreen', 'Intake', 'Pretrial', 'Jail Inmate', 'Single', '2013-01-27 00:00:00.000000', 1, 'Low', 'Low', 8, 'Risk of Recidivism', -0.76, 3, 3),\n",
       " (9, 'kevon', 'dixon', 51601, 52796, 58102, 'PRETRIAL', 'Risk and Prescreen', 'Intake', 'Pretrial', 'Jail Inmate', 'Single', '2013-01-27 00:00:00.000000', 1, 'Low', 'Medium', 18, 'Risk of Failure to Appear', 25, 6, 3),\n",
       " (10, 'ed', 'philo', 38864, 55421, 61042, 'PRETRIAL', 'Risk and Prescreen', 'Intake', 'Pretrial', 'Jail Inmate', 'Single', '2013-04-14 00:00:00.000000', 1, 'Low', 'Low', 7, 'Risk of Violence', -2.26, 3, 4)]"
      ]
     },
     "execution_count": 9,
     "metadata": {},
     "output_type": "execute_result"
    }
   ],
   "source": [
    "cursor = engine.execute('SELECT * FROM compas LIMIT 10')\n",
    "cursor.fetchall()"
   ]
  },
  {
   "cell_type": "code",
   "execution_count": 10,
   "metadata": {},
   "outputs": [
    {
     "data": {
      "text/html": [
       "<div>\n",
       "<style scoped>\n",
       "    .dataframe tbody tr th:only-of-type {\n",
       "        vertical-align: middle;\n",
       "    }\n",
       "\n",
       "    .dataframe tbody tr th {\n",
       "        vertical-align: top;\n",
       "    }\n",
       "\n",
       "    .dataframe thead th {\n",
       "        text-align: right;\n",
       "    }\n",
       "</style>\n",
       "<table border=\"1\" class=\"dataframe\">\n",
       "  <thead>\n",
       "    <tr style=\"text-align: right;\">\n",
       "      <th></th>\n",
       "      <th>id</th>\n",
       "      <th>name</th>\n",
       "      <th>first</th>\n",
       "      <th>last</th>\n",
       "      <th>sex</th>\n",
       "      <th>race</th>\n",
       "      <th>dob</th>\n",
       "      <th>age</th>\n",
       "      <th>age_cat</th>\n",
       "      <th>juv_fel_count</th>\n",
       "      <th>...</th>\n",
       "      <th>r_offense_date</th>\n",
       "      <th>r_charge_desc</th>\n",
       "      <th>r_jail_in</th>\n",
       "      <th>r_jail_out</th>\n",
       "      <th>is_violent_recid</th>\n",
       "      <th>num_vr_cases</th>\n",
       "      <th>vr_case_number</th>\n",
       "      <th>vr_charge_degree</th>\n",
       "      <th>vr_offense_date</th>\n",
       "      <th>vr_charge_desc</th>\n",
       "    </tr>\n",
       "  </thead>\n",
       "  <tbody>\n",
       "    <tr>\n",
       "      <th>0</th>\n",
       "      <td>1</td>\n",
       "      <td>miguel hernandez</td>\n",
       "      <td>miguel</td>\n",
       "      <td>hernandez</td>\n",
       "      <td>Male</td>\n",
       "      <td>Other</td>\n",
       "      <td>1947-04-18</td>\n",
       "      <td>69</td>\n",
       "      <td>Greater than 45</td>\n",
       "      <td>0</td>\n",
       "      <td>...</td>\n",
       "      <td>NaT</td>\n",
       "      <td>None</td>\n",
       "      <td>NaT</td>\n",
       "      <td>NaT</td>\n",
       "      <td>0</td>\n",
       "      <td>None</td>\n",
       "      <td>None</td>\n",
       "      <td>None</td>\n",
       "      <td>NaT</td>\n",
       "      <td>None</td>\n",
       "    </tr>\n",
       "    <tr>\n",
       "      <th>1</th>\n",
       "      <td>2</td>\n",
       "      <td>michael ryan</td>\n",
       "      <td>michael</td>\n",
       "      <td>ryan</td>\n",
       "      <td>Male</td>\n",
       "      <td>Caucasian</td>\n",
       "      <td>1985-02-06</td>\n",
       "      <td>31</td>\n",
       "      <td>25 - 45</td>\n",
       "      <td>0</td>\n",
       "      <td>...</td>\n",
       "      <td>NaT</td>\n",
       "      <td>None</td>\n",
       "      <td>NaT</td>\n",
       "      <td>NaT</td>\n",
       "      <td>0</td>\n",
       "      <td>None</td>\n",
       "      <td>None</td>\n",
       "      <td>None</td>\n",
       "      <td>NaT</td>\n",
       "      <td>None</td>\n",
       "    </tr>\n",
       "    <tr>\n",
       "      <th>2</th>\n",
       "      <td>3</td>\n",
       "      <td>kevon dixon</td>\n",
       "      <td>kevon</td>\n",
       "      <td>dixon</td>\n",
       "      <td>Male</td>\n",
       "      <td>African-American</td>\n",
       "      <td>1982-01-22</td>\n",
       "      <td>34</td>\n",
       "      <td>25 - 45</td>\n",
       "      <td>0</td>\n",
       "      <td>...</td>\n",
       "      <td>2013-07-05</td>\n",
       "      <td>Felony Battery (Dom Strang)</td>\n",
       "      <td>NaT</td>\n",
       "      <td>NaT</td>\n",
       "      <td>1</td>\n",
       "      <td>None</td>\n",
       "      <td>13009779CF10A</td>\n",
       "      <td>(F3)</td>\n",
       "      <td>2013-07-05</td>\n",
       "      <td>Felony Battery (Dom Strang)</td>\n",
       "    </tr>\n",
       "    <tr>\n",
       "      <th>3</th>\n",
       "      <td>4</td>\n",
       "      <td>ed philo</td>\n",
       "      <td>ed</td>\n",
       "      <td>philo</td>\n",
       "      <td>Male</td>\n",
       "      <td>African-American</td>\n",
       "      <td>1991-05-14</td>\n",
       "      <td>24</td>\n",
       "      <td>Less than 25</td>\n",
       "      <td>0</td>\n",
       "      <td>...</td>\n",
       "      <td>2013-06-16</td>\n",
       "      <td>Driving Under The Influence</td>\n",
       "      <td>2013-06-16 09:05:47</td>\n",
       "      <td>2013-06-16 07:18:55</td>\n",
       "      <td>0</td>\n",
       "      <td>None</td>\n",
       "      <td>None</td>\n",
       "      <td>None</td>\n",
       "      <td>NaT</td>\n",
       "      <td>None</td>\n",
       "    </tr>\n",
       "    <tr>\n",
       "      <th>4</th>\n",
       "      <td>5</td>\n",
       "      <td>marcu brown</td>\n",
       "      <td>marcu</td>\n",
       "      <td>brown</td>\n",
       "      <td>Male</td>\n",
       "      <td>African-American</td>\n",
       "      <td>1993-01-21</td>\n",
       "      <td>23</td>\n",
       "      <td>Less than 25</td>\n",
       "      <td>0</td>\n",
       "      <td>...</td>\n",
       "      <td>NaT</td>\n",
       "      <td>None</td>\n",
       "      <td>NaT</td>\n",
       "      <td>NaT</td>\n",
       "      <td>0</td>\n",
       "      <td>None</td>\n",
       "      <td>None</td>\n",
       "      <td>None</td>\n",
       "      <td>NaT</td>\n",
       "      <td>None</td>\n",
       "    </tr>\n",
       "  </tbody>\n",
       "</table>\n",
       "<p>5 rows × 41 columns</p>\n",
       "</div>"
      ],
      "text/plain": [
       "   id              name    first       last   sex              race  \\\n",
       "0   1  miguel hernandez   miguel  hernandez  Male             Other   \n",
       "1   2      michael ryan  michael       ryan  Male         Caucasian   \n",
       "2   3       kevon dixon    kevon      dixon  Male  African-American   \n",
       "3   4          ed philo       ed      philo  Male  African-American   \n",
       "4   5       marcu brown    marcu      brown  Male  African-American   \n",
       "\n",
       "         dob  age          age_cat  juv_fel_count  ...  r_offense_date  \\\n",
       "0 1947-04-18   69  Greater than 45              0  ...             NaT   \n",
       "1 1985-02-06   31          25 - 45              0  ...             NaT   \n",
       "2 1982-01-22   34          25 - 45              0  ...      2013-07-05   \n",
       "3 1991-05-14   24     Less than 25              0  ...      2013-06-16   \n",
       "4 1993-01-21   23     Less than 25              0  ...             NaT   \n",
       "\n",
       "                 r_charge_desc           r_jail_in          r_jail_out  \\\n",
       "0                         None                 NaT                 NaT   \n",
       "1                         None                 NaT                 NaT   \n",
       "2  Felony Battery (Dom Strang)                 NaT                 NaT   \n",
       "3  Driving Under The Influence 2013-06-16 09:05:47 2013-06-16 07:18:55   \n",
       "4                         None                 NaT                 NaT   \n",
       "\n",
       "  is_violent_recid num_vr_cases  vr_case_number vr_charge_degree  \\\n",
       "0                0         None            None             None   \n",
       "1                0         None            None             None   \n",
       "2                1         None   13009779CF10A             (F3)   \n",
       "3                0         None            None             None   \n",
       "4                0         None            None             None   \n",
       "\n",
       "  vr_offense_date               vr_charge_desc  \n",
       "0             NaT                         None  \n",
       "1             NaT                         None  \n",
       "2      2013-07-05  Felony Battery (Dom Strang)  \n",
       "3             NaT                         None  \n",
       "4             NaT                         None  \n",
       "\n",
       "[5 rows x 41 columns]"
      ]
     },
     "execution_count": 10,
     "metadata": {},
     "output_type": "execute_result"
    }
   ],
   "source": [
    "# Import the table \"people\" from the database into pandas\n",
    "import pandas\n",
    "people = pandas.read_sql('people', engine)\n",
    "people.head()"
   ]
  },
  {
   "cell_type": "code",
   "execution_count": 11,
   "metadata": {},
   "outputs": [
    {
     "data": {
      "text/plain": [
       "Index(['id', 'name', 'first', 'last', 'sex', 'race', 'dob', 'age', 'age_cat',\n",
       "       'juv_fel_count', 'juv_misd_count', 'juv_other_count',\n",
       "       'compas_screening_date', 'decile_score', 'score_text', 'violent_recid',\n",
       "       'priors_count', 'days_b_screening_arrest', 'c_jail_in', 'c_jail_out',\n",
       "       'c_case_number', 'c_days_from_compas', 'c_arrest_date',\n",
       "       'c_offense_date', 'c_charge_degree', 'c_charge_desc', 'is_recid',\n",
       "       'num_r_cases', 'r_case_number', 'r_charge_degree', 'r_days_from_arrest',\n",
       "       'r_offense_date', 'r_charge_desc', 'r_jail_in', 'r_jail_out',\n",
       "       'is_violent_recid', 'num_vr_cases', 'vr_case_number',\n",
       "       'vr_charge_degree', 'vr_offense_date', 'vr_charge_desc'],\n",
       "      dtype='object')"
      ]
     },
     "execution_count": 11,
     "metadata": {},
     "output_type": "execute_result"
    }
   ],
   "source": [
    "people.columns"
   ]
  },
  {
   "cell_type": "code",
   "execution_count": 12,
   "metadata": {},
   "outputs": [
    {
     "data": {
      "text/html": [
       "<div>\n",
       "<style scoped>\n",
       "    .dataframe tbody tr th:only-of-type {\n",
       "        vertical-align: middle;\n",
       "    }\n",
       "\n",
       "    .dataframe tbody tr th {\n",
       "        vertical-align: top;\n",
       "    }\n",
       "\n",
       "    .dataframe thead th {\n",
       "        text-align: right;\n",
       "    }\n",
       "</style>\n",
       "<table border=\"1\" class=\"dataframe\">\n",
       "  <thead>\n",
       "    <tr style=\"text-align: right;\">\n",
       "      <th></th>\n",
       "      <th>id</th>\n",
       "      <th>first</th>\n",
       "      <th>last</th>\n",
       "      <th>compas_person_id</th>\n",
       "      <th>compas_case_id</th>\n",
       "      <th>compas_assessment_id</th>\n",
       "      <th>agency_text</th>\n",
       "      <th>scale_set</th>\n",
       "      <th>assessment_reason</th>\n",
       "      <th>legal_status</th>\n",
       "      <th>...</th>\n",
       "      <th>marital_status</th>\n",
       "      <th>screening_date</th>\n",
       "      <th>rec_supervision_level</th>\n",
       "      <th>rec_supervision_level_text</th>\n",
       "      <th>score_text</th>\n",
       "      <th>scale_id</th>\n",
       "      <th>type_of_assessment</th>\n",
       "      <th>raw_score</th>\n",
       "      <th>decile_score</th>\n",
       "      <th>person_id</th>\n",
       "    </tr>\n",
       "  </thead>\n",
       "  <tbody>\n",
       "    <tr>\n",
       "      <th>0</th>\n",
       "      <td>1</td>\n",
       "      <td>miguel</td>\n",
       "      <td>hernandez</td>\n",
       "      <td>56418</td>\n",
       "      <td>58393</td>\n",
       "      <td>64352</td>\n",
       "      <td>PRETRIAL</td>\n",
       "      <td>Risk and Prescreen</td>\n",
       "      <td>Intake</td>\n",
       "      <td>Pretrial</td>\n",
       "      <td>...</td>\n",
       "      <td>Single</td>\n",
       "      <td>2013-08-14</td>\n",
       "      <td>1</td>\n",
       "      <td>Low</td>\n",
       "      <td>Low</td>\n",
       "      <td>7</td>\n",
       "      <td>Risk of Violence</td>\n",
       "      <td>-4</td>\n",
       "      <td>1</td>\n",
       "      <td>1</td>\n",
       "    </tr>\n",
       "    <tr>\n",
       "      <th>1</th>\n",
       "      <td>2</td>\n",
       "      <td>miguel</td>\n",
       "      <td>hernandez</td>\n",
       "      <td>56418</td>\n",
       "      <td>58393</td>\n",
       "      <td>64352</td>\n",
       "      <td>PRETRIAL</td>\n",
       "      <td>Risk and Prescreen</td>\n",
       "      <td>Intake</td>\n",
       "      <td>Pretrial</td>\n",
       "      <td>...</td>\n",
       "      <td>Single</td>\n",
       "      <td>2013-08-14</td>\n",
       "      <td>1</td>\n",
       "      <td>Low</td>\n",
       "      <td>Low</td>\n",
       "      <td>8</td>\n",
       "      <td>Risk of Recidivism</td>\n",
       "      <td>-2</td>\n",
       "      <td>1</td>\n",
       "      <td>1</td>\n",
       "    </tr>\n",
       "    <tr>\n",
       "      <th>2</th>\n",
       "      <td>3</td>\n",
       "      <td>miguel</td>\n",
       "      <td>hernandez</td>\n",
       "      <td>56418</td>\n",
       "      <td>58393</td>\n",
       "      <td>64352</td>\n",
       "      <td>PRETRIAL</td>\n",
       "      <td>Risk and Prescreen</td>\n",
       "      <td>Intake</td>\n",
       "      <td>Pretrial</td>\n",
       "      <td>...</td>\n",
       "      <td>Single</td>\n",
       "      <td>2013-08-14</td>\n",
       "      <td>1</td>\n",
       "      <td>Low</td>\n",
       "      <td>Low</td>\n",
       "      <td>18</td>\n",
       "      <td>Risk of Failure to Appear</td>\n",
       "      <td>13</td>\n",
       "      <td>1</td>\n",
       "      <td>1</td>\n",
       "    </tr>\n",
       "    <tr>\n",
       "      <th>3</th>\n",
       "      <td>4</td>\n",
       "      <td>michael</td>\n",
       "      <td>ryan</td>\n",
       "      <td>68603</td>\n",
       "      <td>72042</td>\n",
       "      <td>79669</td>\n",
       "      <td>PRETRIAL</td>\n",
       "      <td>Risk and Prescreen</td>\n",
       "      <td>Intake</td>\n",
       "      <td>Pretrial</td>\n",
       "      <td>...</td>\n",
       "      <td>Single</td>\n",
       "      <td>2014-12-31</td>\n",
       "      <td>1</td>\n",
       "      <td>Low</td>\n",
       "      <td>Low</td>\n",
       "      <td>7</td>\n",
       "      <td>Risk of Violence</td>\n",
       "      <td>-2</td>\n",
       "      <td>2</td>\n",
       "      <td>2</td>\n",
       "    </tr>\n",
       "    <tr>\n",
       "      <th>4</th>\n",
       "      <td>5</td>\n",
       "      <td>michael</td>\n",
       "      <td>ryan</td>\n",
       "      <td>68603</td>\n",
       "      <td>72042</td>\n",
       "      <td>79669</td>\n",
       "      <td>PRETRIAL</td>\n",
       "      <td>Risk and Prescreen</td>\n",
       "      <td>Intake</td>\n",
       "      <td>Pretrial</td>\n",
       "      <td>...</td>\n",
       "      <td>Single</td>\n",
       "      <td>2014-12-31</td>\n",
       "      <td>1</td>\n",
       "      <td>Low</td>\n",
       "      <td>Medium</td>\n",
       "      <td>8</td>\n",
       "      <td>Risk of Recidivism</td>\n",
       "      <td>0</td>\n",
       "      <td>5</td>\n",
       "      <td>2</td>\n",
       "    </tr>\n",
       "  </tbody>\n",
       "</table>\n",
       "<p>5 rows × 21 columns</p>\n",
       "</div>"
      ],
      "text/plain": [
       "   id    first       last  compas_person_id  compas_case_id  \\\n",
       "0   1   miguel  hernandez             56418           58393   \n",
       "1   2   miguel  hernandez             56418           58393   \n",
       "2   3   miguel  hernandez             56418           58393   \n",
       "3   4  michael       ryan             68603           72042   \n",
       "4   5  michael       ryan             68603           72042   \n",
       "\n",
       "   compas_assessment_id agency_text           scale_set assessment_reason  \\\n",
       "0                 64352    PRETRIAL  Risk and Prescreen            Intake   \n",
       "1                 64352    PRETRIAL  Risk and Prescreen            Intake   \n",
       "2                 64352    PRETRIAL  Risk and Prescreen            Intake   \n",
       "3                 79669    PRETRIAL  Risk and Prescreen            Intake   \n",
       "4                 79669    PRETRIAL  Risk and Prescreen            Intake   \n",
       "\n",
       "  legal_status  ... marital_status screening_date rec_supervision_level  \\\n",
       "0     Pretrial  ...         Single     2013-08-14                     1   \n",
       "1     Pretrial  ...         Single     2013-08-14                     1   \n",
       "2     Pretrial  ...         Single     2013-08-14                     1   \n",
       "3     Pretrial  ...         Single     2014-12-31                     1   \n",
       "4     Pretrial  ...         Single     2014-12-31                     1   \n",
       "\n",
       "   rec_supervision_level_text score_text scale_id         type_of_assessment  \\\n",
       "0                         Low        Low        7           Risk of Violence   \n",
       "1                         Low        Low        8         Risk of Recidivism   \n",
       "2                         Low        Low       18  Risk of Failure to Appear   \n",
       "3                         Low        Low        7           Risk of Violence   \n",
       "4                         Low     Medium        8         Risk of Recidivism   \n",
       "\n",
       "  raw_score  decile_score  person_id  \n",
       "0        -4             1          1  \n",
       "1        -2             1          1  \n",
       "2        13             1          1  \n",
       "3        -2             2          2  \n",
       "4         0             5          2  \n",
       "\n",
       "[5 rows x 21 columns]"
      ]
     },
     "execution_count": 12,
     "metadata": {},
     "output_type": "execute_result"
    }
   ],
   "source": [
    "# Import the table \"compas\" from the database into pandas\n",
    "# COMPAS is the risk assessment tool used in the article and is the subject of study\n",
    "compas = pandas.read_sql('compas', engine)\n",
    "compas.head()"
   ]
  },
  {
   "cell_type": "code",
   "execution_count": 13,
   "metadata": {},
   "outputs": [
    {
     "data": {
      "text/plain": [
       "Index(['id', 'first', 'last', 'compas_person_id', 'compas_case_id',\n",
       "       'compas_assessment_id', 'agency_text', 'scale_set', 'assessment_reason',\n",
       "       'legal_status', 'custody_status', 'marital_status', 'screening_date',\n",
       "       'rec_supervision_level', 'rec_supervision_level_text', 'score_text',\n",
       "       'scale_id', 'type_of_assessment', 'raw_score', 'decile_score',\n",
       "       'person_id'],\n",
       "      dtype='object')"
      ]
     },
     "execution_count": 13,
     "metadata": {},
     "output_type": "execute_result"
    }
   ],
   "source": [
    "compas.columns"
   ]
  },
  {
   "cell_type": "code",
   "execution_count": 14,
   "metadata": {},
   "outputs": [
    {
     "data": {
      "text/html": [
       "<div>\n",
       "<style scoped>\n",
       "    .dataframe tbody tr th:only-of-type {\n",
       "        vertical-align: middle;\n",
       "    }\n",
       "\n",
       "    .dataframe tbody tr th {\n",
       "        vertical-align: top;\n",
       "    }\n",
       "\n",
       "    .dataframe thead th {\n",
       "        text-align: right;\n",
       "    }\n",
       "</style>\n",
       "<table border=\"1\" class=\"dataframe\">\n",
       "  <thead>\n",
       "    <tr style=\"text-align: right;\">\n",
       "      <th></th>\n",
       "      <th>race</th>\n",
       "      <th>is_violent_recid</th>\n",
       "      <th>agency_text</th>\n",
       "      <th>score_text</th>\n",
       "    </tr>\n",
       "  </thead>\n",
       "  <tbody>\n",
       "    <tr>\n",
       "      <th>0</th>\n",
       "      <td>Other</td>\n",
       "      <td>0</td>\n",
       "      <td>PRETRIAL</td>\n",
       "      <td>Low</td>\n",
       "    </tr>\n",
       "    <tr>\n",
       "      <th>1</th>\n",
       "      <td>Other</td>\n",
       "      <td>0</td>\n",
       "      <td>PRETRIAL</td>\n",
       "      <td>Low</td>\n",
       "    </tr>\n",
       "    <tr>\n",
       "      <th>2</th>\n",
       "      <td>Other</td>\n",
       "      <td>0</td>\n",
       "      <td>PRETRIAL</td>\n",
       "      <td>Low</td>\n",
       "    </tr>\n",
       "    <tr>\n",
       "      <th>3</th>\n",
       "      <td>Caucasian</td>\n",
       "      <td>0</td>\n",
       "      <td>PRETRIAL</td>\n",
       "      <td>Low</td>\n",
       "    </tr>\n",
       "    <tr>\n",
       "      <th>4</th>\n",
       "      <td>Caucasian</td>\n",
       "      <td>0</td>\n",
       "      <td>PRETRIAL</td>\n",
       "      <td>Medium</td>\n",
       "    </tr>\n",
       "  </tbody>\n",
       "</table>\n",
       "</div>"
      ],
      "text/plain": [
       "        race  is_violent_recid agency_text score_text\n",
       "0      Other                 0    PRETRIAL        Low\n",
       "1      Other                 0    PRETRIAL        Low\n",
       "2      Other                 0    PRETRIAL        Low\n",
       "3  Caucasian                 0    PRETRIAL        Low\n",
       "4  Caucasian                 0    PRETRIAL     Medium"
      ]
     },
     "execution_count": 14,
     "metadata": {},
     "output_type": "execute_result"
    }
   ],
   "source": [
    "# Inner join the tables. Compare empirical data (times reoffended) with predicted (compas risk)\n",
    "\n",
    "df = pandas.read_sql('''SELECT race,is_violent_recid,agency_text,compas.score_text \n",
    "FROM people JOIN compas ON \n",
    "person_id = people.id''', engine)\n",
    "df.head()"
   ]
  },
  {
   "cell_type": "code",
   "execution_count": 15,
   "metadata": {},
   "outputs": [
    {
     "data": {
      "text/html": [
       "<div>\n",
       "<style scoped>\n",
       "    .dataframe tbody tr th:only-of-type {\n",
       "        vertical-align: middle;\n",
       "    }\n",
       "\n",
       "    .dataframe tbody tr th {\n",
       "        vertical-align: top;\n",
       "    }\n",
       "\n",
       "    .dataframe thead tr th {\n",
       "        text-align: left;\n",
       "    }\n",
       "</style>\n",
       "<table border=\"1\" class=\"dataframe\">\n",
       "  <thead>\n",
       "    <tr>\n",
       "      <th></th>\n",
       "      <th colspan=\"2\" halign=\"left\">African-American</th>\n",
       "      <th colspan=\"2\" halign=\"left\">Asian</th>\n",
       "      <th colspan=\"2\" halign=\"left\">Caucasian</th>\n",
       "      <th colspan=\"2\" halign=\"left\">Hispanic</th>\n",
       "      <th colspan=\"2\" halign=\"left\">Native American</th>\n",
       "      <th colspan=\"2\" halign=\"left\">Other</th>\n",
       "    </tr>\n",
       "    <tr>\n",
       "      <th></th>\n",
       "      <th>0</th>\n",
       "      <th>1</th>\n",
       "      <th>0</th>\n",
       "      <th>1</th>\n",
       "      <th>0</th>\n",
       "      <th>1</th>\n",
       "      <th>0</th>\n",
       "      <th>1</th>\n",
       "      <th>0</th>\n",
       "      <th>1</th>\n",
       "      <th>0</th>\n",
       "      <th>1</th>\n",
       "    </tr>\n",
       "  </thead>\n",
       "  <tbody>\n",
       "    <tr>\n",
       "      <th>High</th>\n",
       "      <td>0.168173</td>\n",
       "      <td>0.290386</td>\n",
       "      <td>0.041667</td>\n",
       "      <td>0.166667</td>\n",
       "      <td>0.076904</td>\n",
       "      <td>0.142686</td>\n",
       "      <td>0.065251</td>\n",
       "      <td>0.159204</td>\n",
       "      <td>0.117117</td>\n",
       "      <td>0.277778</td>\n",
       "      <td>0.025402</td>\n",
       "      <td>0.191489</td>\n",
       "    </tr>\n",
       "    <tr>\n",
       "      <th>Low</th>\n",
       "      <td>0.576348</td>\n",
       "      <td>0.399707</td>\n",
       "      <td>0.839286</td>\n",
       "      <td>0.416667</td>\n",
       "      <td>0.742984</td>\n",
       "      <td>0.594724</td>\n",
       "      <td>0.780240</td>\n",
       "      <td>0.621891</td>\n",
       "      <td>0.711712</td>\n",
       "      <td>0.388889</td>\n",
       "      <td>0.855365</td>\n",
       "      <td>0.666667</td>\n",
       "    </tr>\n",
       "    <tr>\n",
       "      <th>Medium</th>\n",
       "      <td>0.255006</td>\n",
       "      <td>0.309907</td>\n",
       "      <td>0.119048</td>\n",
       "      <td>0.416667</td>\n",
       "      <td>0.179191</td>\n",
       "      <td>0.262590</td>\n",
       "      <td>0.154509</td>\n",
       "      <td>0.218905</td>\n",
       "      <td>0.171171</td>\n",
       "      <td>0.333333</td>\n",
       "      <td>0.118196</td>\n",
       "      <td>0.141844</td>\n",
       "    </tr>\n",
       "    <tr>\n",
       "      <th>N/A</th>\n",
       "      <td>0.000473</td>\n",
       "      <td>NaN</td>\n",
       "      <td>NaN</td>\n",
       "      <td>NaN</td>\n",
       "      <td>0.000922</td>\n",
       "      <td>NaN</td>\n",
       "      <td>NaN</td>\n",
       "      <td>NaN</td>\n",
       "      <td>NaN</td>\n",
       "      <td>NaN</td>\n",
       "      <td>0.001037</td>\n",
       "      <td>NaN</td>\n",
       "    </tr>\n",
       "  </tbody>\n",
       "</table>\n",
       "</div>"
      ],
      "text/plain": [
       "       African-American               Asian           Caucasian            \\\n",
       "                      0         1         0         1         0         1   \n",
       "High           0.168173  0.290386  0.041667  0.166667  0.076904  0.142686   \n",
       "Low            0.576348  0.399707  0.839286  0.416667  0.742984  0.594724   \n",
       "Medium         0.255006  0.309907  0.119048  0.416667  0.179191  0.262590   \n",
       "N/A            0.000473       NaN       NaN       NaN  0.000922       NaN   \n",
       "\n",
       "        Hispanic           Native American               Other            \n",
       "               0         1               0         1         0         1  \n",
       "High    0.065251  0.159204        0.117117  0.277778  0.025402  0.191489  \n",
       "Low     0.780240  0.621891        0.711712  0.388889  0.855365  0.666667  \n",
       "Medium  0.154509  0.218905        0.171171  0.333333  0.118196  0.141844  \n",
       "N/A          NaN       NaN             NaN       NaN  0.001037       NaN  "
      ]
     },
     "execution_count": 15,
     "metadata": {},
     "output_type": "execute_result"
    }
   ],
   "source": [
    "relative_counts = pandas.DataFrame(\n",
    "    {i: d.score_text.value_counts() / d.score_text.count()\n",
    "     for i, d in df.groupby(['race', 'is_violent_recid'])})\n",
    "relative_counts"
   ]
  },
  {
   "cell_type": "code",
   "execution_count": 16,
   "metadata": {},
   "outputs": [
    {
     "data": {
      "text/plain": [
       "<matplotlib.legend.Legend at 0x7ffe74567350>"
      ]
     },
     "execution_count": 16,
     "metadata": {},
     "output_type": "execute_result"
    },
    {
     "data": {
      "image/png": "[encoded data removed]",
      "text/plain": [
       "<Figure size 432x288 with 1 Axes>"
      ]
     },
     "metadata": {
      "needs_background": "light"
     },
     "output_type": "display_data"
    }
   ],
   "source": [
    "%matplotlib inline\n",
    "relative_counts.plot.bar().legend(bbox_to_anchor = (1,1))"
   ]
  },
  {
   "cell_type": "code",
   "execution_count": 17,
   "metadata": {},
   "outputs": [],
   "source": [
    "# this will be your prediction\n",
    "df['scored_high'] = 0 + (df.score_text == 'High')"
   ]
  },
  {
   "cell_type": "code",
   "execution_count": 18,
   "metadata": {},
   "outputs": [
    {
     "name": "stdout",
     "output_type": "stream",
     "text": [
      "Optimization terminated successfully.\n",
      "         Current function value: 0.365167\n",
      "         Iterations 7\n"
     ]
    },
    {
     "data": {
      "text/html": [
       "<table class=\"simpletable\">\n",
       "<caption>Logit Regression Results</caption>\n",
       "<tr>\n",
       "  <th>Dep. Variable:</th>      <td>scored_high</td>   <th>  No. Observations:  </th>   <td> 37578</td>  \n",
       "</tr>\n",
       "<tr>\n",
       "  <th>Model:</th>                 <td>Logit</td>      <th>  Df Residuals:      </th>   <td> 37568</td>  \n",
       "</tr>\n",
       "<tr>\n",
       "  <th>Method:</th>                 <td>MLE</td>       <th>  Df Model:          </th>   <td>     9</td>  \n",
       "</tr>\n",
       "<tr>\n",
       "  <th>Date:</th>            <td>Mon, 14 Dec 2020</td> <th>  Pseudo R-squ.:     </th>   <td>0.04752</td> \n",
       "</tr>\n",
       "<tr>\n",
       "  <th>Time:</th>                <td>13:19:34</td>     <th>  Log-Likelihood:    </th>  <td> -13722.</td> \n",
       "</tr>\n",
       "<tr>\n",
       "  <th>converged:</th>             <td>True</td>       <th>  LL-Null:           </th>  <td> -14407.</td> \n",
       "</tr>\n",
       "<tr>\n",
       "  <th>Covariance Type:</th>     <td>nonrobust</td>    <th>  LLR p-value:       </th> <td>3.681e-289</td>\n",
       "</tr>\n",
       "</table>\n",
       "<table class=\"simpletable\">\n",
       "<tr>\n",
       "               <td></td>                 <th>coef</th>     <th>std err</th>      <th>z</th>      <th>P>|z|</th>  <th>[0.025</th>    <th>0.975]</th>  \n",
       "</tr>\n",
       "<tr>\n",
       "  <th>Intercept</th>                  <td>   -0.9779</td> <td>    0.230</td> <td>   -4.248</td> <td> 0.000</td> <td>   -1.429</td> <td>   -0.527</td>\n",
       "</tr>\n",
       "<tr>\n",
       "  <th>C(race)[T.Asian]</th>           <td>   -1.4142</td> <td>    0.343</td> <td>   -4.122</td> <td> 0.000</td> <td>   -2.087</td> <td>   -0.742</td>\n",
       "</tr>\n",
       "<tr>\n",
       "  <th>C(race)[T.Caucasian]</th>       <td>   -0.8806</td> <td>    0.038</td> <td>  -23.374</td> <td> 0.000</td> <td>   -0.954</td> <td>   -0.807</td>\n",
       "</tr>\n",
       "<tr>\n",
       "  <th>C(race)[T.Hispanic]</th>        <td>   -1.0405</td> <td>    0.069</td> <td>  -15.008</td> <td> 0.000</td> <td>   -1.176</td> <td>   -0.905</td>\n",
       "</tr>\n",
       "<tr>\n",
       "  <th>C(race)[T.Native American]</th> <td>   -0.3605</td> <td>    0.256</td> <td>   -1.406</td> <td> 0.160</td> <td>   -0.863</td> <td>    0.142</td>\n",
       "</tr>\n",
       "<tr>\n",
       "  <th>C(race)[T.Other]</th>           <td>   -1.7172</td> <td>    0.119</td> <td>  -14.478</td> <td> 0.000</td> <td>   -1.950</td> <td>   -1.485</td>\n",
       "</tr>\n",
       "<tr>\n",
       "  <th>agency_text[T.DRRD]</th>        <td>    0.2336</td> <td>    0.294</td> <td>    0.795</td> <td> 0.427</td> <td>   -0.342</td> <td>    0.809</td>\n",
       "</tr>\n",
       "<tr>\n",
       "  <th>agency_text[T.PRETRIAL]</th>    <td>   -0.6537</td> <td>    0.231</td> <td>   -2.836</td> <td> 0.005</td> <td>   -1.105</td> <td>   -0.202</td>\n",
       "</tr>\n",
       "<tr>\n",
       "  <th>agency_text[T.Probation]</th>   <td>   -0.2184</td> <td>    0.241</td> <td>   -0.905</td> <td> 0.366</td> <td>   -0.692</td> <td>    0.255</td>\n",
       "</tr>\n",
       "<tr>\n",
       "  <th>is_violent_recid</th>           <td>    0.7479</td> <td>    0.045</td> <td>   16.515</td> <td> 0.000</td> <td>    0.659</td> <td>    0.837</td>\n",
       "</tr>\n",
       "</table>"
      ],
      "text/plain": [
       "<class 'statsmodels.iolib.summary.Summary'>\n",
       "\"\"\"\n",
       "                           Logit Regression Results                           \n",
       "==============================================================================\n",
       "Dep. Variable:            scored_high   No. Observations:                37578\n",
       "Model:                          Logit   Df Residuals:                    37568\n",
       "Method:                           MLE   Df Model:                            9\n",
       "Date:                Mon, 14 Dec 2020   Pseudo R-squ.:                 0.04752\n",
       "Time:                        13:19:34   Log-Likelihood:                -13722.\n",
       "converged:                       True   LL-Null:                       -14407.\n",
       "Covariance Type:            nonrobust   LLR p-value:                3.681e-289\n",
       "==============================================================================================\n",
       "                                 coef    std err          z      P>|z|      [0.025      0.975]\n",
       "----------------------------------------------------------------------------------------------\n",
       "Intercept                     -0.9779      0.230     -4.248      0.000      -1.429      -0.527\n",
       "C(race)[T.Asian]              -1.4142      0.343     -4.122      0.000      -2.087      -0.742\n",
       "C(race)[T.Caucasian]          -0.8806      0.038    -23.374      0.000      -0.954      -0.807\n",
       "C(race)[T.Hispanic]           -1.0405      0.069    -15.008      0.000      -1.176      -0.905\n",
       "C(race)[T.Native American]    -0.3605      0.256     -1.406      0.160      -0.863       0.142\n",
       "C(race)[T.Other]              -1.7172      0.119    -14.478      0.000      -1.950      -1.485\n",
       "agency_text[T.DRRD]            0.2336      0.294      0.795      0.427      -0.342       0.809\n",
       "agency_text[T.PRETRIAL]       -0.6537      0.231     -2.836      0.005      -1.105      -0.202\n",
       "agency_text[T.Probation]      -0.2184      0.241     -0.905      0.366      -0.692       0.255\n",
       "is_violent_recid               0.7479      0.045     16.515      0.000       0.659       0.837\n",
       "==============================================================================================\n",
       "\"\"\""
      ]
     },
     "execution_count": 18,
     "metadata": {},
     "output_type": "execute_result"
    }
   ],
   "source": [
    "from statsmodels.formula.api import logit\n",
    "#this will be the model you used to generate scores\n",
    "# C() for categorical\n",
    "model = logit('scored_high ~ C(race) + is_violent_recid + agency_text', df).fit()\n",
    "model.summary()"
   ]
  },
  {
   "cell_type": "code",
   "execution_count": 19,
   "metadata": {},
   "outputs": [],
   "source": [
    "score = model.predict(df)"
   ]
  },
  {
   "cell_type": "code",
   "execution_count": 20,
   "metadata": {},
   "outputs": [],
   "source": [
    "bw_score = score[(df[\"race\"] == \"African-American\") | (df[\"race\"] == \"Caucasian\") ]"
   ]
  },
  {
   "cell_type": "code",
   "execution_count": 21,
   "metadata": {},
   "outputs": [
    {
     "data": {
      "text/plain": [
       "0.500899933158618"
      ]
     },
     "execution_count": 21,
     "metadata": {},
     "output_type": "execute_result"
    }
   ],
   "source": [
    "max_score = max(bw_score)\n",
    "max_score"
   ]
  },
  {
   "cell_type": "code",
   "execution_count": 22,
   "metadata": {},
   "outputs": [
    {
     "data": {
      "text/plain": [
       "0.07501360138832201"
      ]
     },
     "execution_count": 22,
     "metadata": {},
     "output_type": "execute_result"
    }
   ],
   "source": [
    "min_score = min(bw_score)\n",
    "min_score"
   ]
  },
  {
   "cell_type": "markdown",
   "metadata": {},
   "source": [
    "## (a) Independence"
   ]
  },
  {
   "cell_type": "code",
   "execution_count": 23,
   "metadata": {},
   "outputs": [],
   "source": [
    "df_BW = df[(df[\"race\"] == \"Caucasian\") | (df[\"race\"] == \"African-American\")]\n",
    "df_BW = df_BW.assign(R=(df_BW[\"scored_high\"] >= np.mean(df_BW[\"scored_high\"]))*1)"
   ]
  },
  {
   "cell_type": "code",
   "execution_count": 24,
   "metadata": {},
   "outputs": [
    {
     "data": {
      "text/plain": [
       "2.2336060238455064"
      ]
     },
     "execution_count": 24,
     "metadata": {},
     "output_type": "execute_result"
    }
   ],
   "source": [
    "P_W = sum((df_BW[\"race\"] == \"African-American\") & (df_BW[\"R\"] == 1))/sum((df_BW[\"race\"] == \"African-American\"))\n",
    "P_B = sum((df_BW[\"race\"] == \"Caucasian\") & (df_BW[\"R\"] == 1))/sum((df_BW[\"race\"] == \"Caucasian\"))\n",
    "P_W/P_B"
   ]
  },
  {
   "cell_type": "code",
   "execution_count": 25,
   "metadata": {},
   "outputs": [
    {
     "data": {
      "text/plain": [
       "0.1410753094585656"
      ]
     },
     "execution_count": 25,
     "metadata": {},
     "output_type": "execute_result"
    }
   ],
   "source": [
    "np.mean(df_BW[\"scored_high\"])"
   ]
  },
  {
   "cell_type": "markdown",
   "metadata": {},
   "source": [
    "Using the empirical threshold of $0.141$, the ratio evaluates to $2.23 > 0.8$. Therefore, the model violates disparate impact law "
   ]
  },
  {
   "cell_type": "markdown",
   "metadata": {},
   "source": [
    "## (b) Separation"
   ]
  },
  {
   "cell_type": "code",
   "execution_count": 26,
   "metadata": {},
   "outputs": [],
   "source": [
    "def calc_TFPR(true, pred, n_thresh) :\n",
    "    x = np.linspace(min_score,max_score,n_thresh+1)\n",
    "    TPRs = []\n",
    "    FPRs = []\n",
    "    for thresh in x[0:n_thresh]:\n",
    "        converted_pred = (pred >= thresh)*1\n",
    "        TP = sum((true == 1) & (converted_pred == 1))\n",
    "        act_P = sum(true == 1)\n",
    "        TPR = TP/act_P\n",
    "        TPRs.append(TPR)\n",
    "        FP = sum((true == 0) & (converted_pred == 1))\n",
    "        act_N = sum(true == 0)\n",
    "        FPR = FP/act_N\n",
    "        FPRs.append(FPR)\n",
    "    df = pandas.DataFrame(zip(x[0:n_thresh], TPRs, FPRs), \n",
    "               columns =['Lower Threshold', 'TPR', 'FPR'])\n",
    "    return(df)"
   ]
  },
  {
   "cell_type": "code",
   "execution_count": 27,
   "metadata": {},
   "outputs": [
    {
     "data": {
      "text/html": [
       "<div>\n",
       "<style scoped>\n",
       "    .dataframe tbody tr th:only-of-type {\n",
       "        vertical-align: middle;\n",
       "    }\n",
       "\n",
       "    .dataframe tbody tr th {\n",
       "        vertical-align: top;\n",
       "    }\n",
       "\n",
       "    .dataframe thead th {\n",
       "        text-align: right;\n",
       "    }\n",
       "</style>\n",
       "<table border=\"1\" class=\"dataframe\">\n",
       "  <thead>\n",
       "    <tr style=\"text-align: right;\">\n",
       "      <th></th>\n",
       "      <th>Lower Threshold</th>\n",
       "      <th>TPR</th>\n",
       "      <th>FPR</th>\n",
       "    </tr>\n",
       "  </thead>\n",
       "  <tbody>\n",
       "    <tr>\n",
       "      <th>0</th>\n",
       "      <td>0.075014</td>\n",
       "      <td>1.0</td>\n",
       "      <td>1.000000</td>\n",
       "    </tr>\n",
       "    <tr>\n",
       "      <th>1</th>\n",
       "      <td>0.079272</td>\n",
       "      <td>1.0</td>\n",
       "      <td>0.036441</td>\n",
       "    </tr>\n",
       "    <tr>\n",
       "      <th>2</th>\n",
       "      <td>0.083531</td>\n",
       "      <td>1.0</td>\n",
       "      <td>0.036441</td>\n",
       "    </tr>\n",
       "    <tr>\n",
       "      <th>3</th>\n",
       "      <td>0.087790</td>\n",
       "      <td>1.0</td>\n",
       "      <td>0.036441</td>\n",
       "    </tr>\n",
       "    <tr>\n",
       "      <th>4</th>\n",
       "      <td>0.092049</td>\n",
       "      <td>1.0</td>\n",
       "      <td>0.036441</td>\n",
       "    </tr>\n",
       "    <tr>\n",
       "      <th>...</th>\n",
       "      <td>...</td>\n",
       "      <td>...</td>\n",
       "      <td>...</td>\n",
       "    </tr>\n",
       "    <tr>\n",
       "      <th>95</th>\n",
       "      <td>0.479606</td>\n",
       "      <td>0.0</td>\n",
       "      <td>0.000000</td>\n",
       "    </tr>\n",
       "    <tr>\n",
       "      <th>96</th>\n",
       "      <td>0.483864</td>\n",
       "      <td>0.0</td>\n",
       "      <td>0.000000</td>\n",
       "    </tr>\n",
       "    <tr>\n",
       "      <th>97</th>\n",
       "      <td>0.488123</td>\n",
       "      <td>0.0</td>\n",
       "      <td>0.000000</td>\n",
       "    </tr>\n",
       "    <tr>\n",
       "      <th>98</th>\n",
       "      <td>0.492382</td>\n",
       "      <td>0.0</td>\n",
       "      <td>0.000000</td>\n",
       "    </tr>\n",
       "    <tr>\n",
       "      <th>99</th>\n",
       "      <td>0.496641</td>\n",
       "      <td>0.0</td>\n",
       "      <td>0.000000</td>\n",
       "    </tr>\n",
       "  </tbody>\n",
       "</table>\n",
       "<p>100 rows × 3 columns</p>\n",
       "</div>"
      ],
      "text/plain": [
       "    Lower Threshold  TPR       FPR\n",
       "0          0.075014  1.0  1.000000\n",
       "1          0.079272  1.0  0.036441\n",
       "2          0.083531  1.0  0.036441\n",
       "3          0.087790  1.0  0.036441\n",
       "4          0.092049  1.0  0.036441\n",
       "..              ...  ...       ...\n",
       "95         0.479606  0.0  0.000000\n",
       "96         0.483864  0.0  0.000000\n",
       "97         0.488123  0.0  0.000000\n",
       "98         0.492382  0.0  0.000000\n",
       "99         0.496641  0.0  0.000000\n",
       "\n",
       "[100 rows x 3 columns]"
      ]
     },
     "execution_count": 27,
     "metadata": {},
     "output_type": "execute_result"
    }
   ],
   "source": [
    "W_filter = df[\"race\"] == \"Caucasian\"\n",
    "W = df[W_filter]\n",
    "W_score = score[W_filter]\n",
    "TFPR_W = calc_TFPR(W[\"is_violent_recid\"], W_score, 100)\n",
    "TFPR_W"
   ]
  },
  {
   "cell_type": "code",
   "execution_count": 28,
   "metadata": {},
   "outputs": [
    {
     "data": {
      "text/plain": [
       "Text(0.5, 1.0, 'ROC Curve - Caucasian')"
      ]
     },
     "execution_count": 28,
     "metadata": {},
     "output_type": "execute_result"
    },
    {
     "data": {
      "image/png": "[encoded data removed]",
      "text/plain": [
       "<Figure size 432x288 with 1 Axes>"
      ]
     },
     "metadata": {
      "needs_background": "light"
     },
     "output_type": "display_data"
    }
   ],
   "source": [
    "import matplotlib.pyplot as plt\n",
    "\n",
    "plt.plot(TFPR_W[\"FPR\"], TFPR_W[\"TPR\"])\n",
    "plt.plot([0,1],[0,1],linestyle='-.')\n",
    "plt.xlabel(\"FPR\")\n",
    "plt.ylabel(\"TPR\")\n",
    "plt.title(\"ROC Curve - Caucasian\")"
   ]
  },
  {
   "cell_type": "code",
   "execution_count": 29,
   "metadata": {},
   "outputs": [
    {
     "data": {
      "text/html": [
       "<div>\n",
       "<style scoped>\n",
       "    .dataframe tbody tr th:only-of-type {\n",
       "        vertical-align: middle;\n",
       "    }\n",
       "\n",
       "    .dataframe tbody tr th {\n",
       "        vertical-align: top;\n",
       "    }\n",
       "\n",
       "    .dataframe thead th {\n",
       "        text-align: right;\n",
       "    }\n",
       "</style>\n",
       "<table border=\"1\" class=\"dataframe\">\n",
       "  <thead>\n",
       "    <tr style=\"text-align: right;\">\n",
       "      <th></th>\n",
       "      <th>Lower Threshold</th>\n",
       "      <th>TPR</th>\n",
       "      <th>FPR</th>\n",
       "    </tr>\n",
       "  </thead>\n",
       "  <tbody>\n",
       "    <tr>\n",
       "      <th>0</th>\n",
       "      <td>0.075014</td>\n",
       "      <td>1.000000</td>\n",
       "      <td>1.0</td>\n",
       "    </tr>\n",
       "    <tr>\n",
       "      <th>1</th>\n",
       "      <td>0.079272</td>\n",
       "      <td>1.000000</td>\n",
       "      <td>1.0</td>\n",
       "    </tr>\n",
       "    <tr>\n",
       "      <th>2</th>\n",
       "      <td>0.083531</td>\n",
       "      <td>1.000000</td>\n",
       "      <td>1.0</td>\n",
       "    </tr>\n",
       "    <tr>\n",
       "      <th>3</th>\n",
       "      <td>0.087790</td>\n",
       "      <td>1.000000</td>\n",
       "      <td>1.0</td>\n",
       "    </tr>\n",
       "    <tr>\n",
       "      <th>4</th>\n",
       "      <td>0.092049</td>\n",
       "      <td>1.000000</td>\n",
       "      <td>1.0</td>\n",
       "    </tr>\n",
       "    <tr>\n",
       "      <th>...</th>\n",
       "      <td>...</td>\n",
       "      <td>...</td>\n",
       "      <td>...</td>\n",
       "    </tr>\n",
       "    <tr>\n",
       "      <th>95</th>\n",
       "      <td>0.479606</td>\n",
       "      <td>0.013177</td>\n",
       "      <td>0.0</td>\n",
       "    </tr>\n",
       "    <tr>\n",
       "      <th>96</th>\n",
       "      <td>0.483864</td>\n",
       "      <td>0.013177</td>\n",
       "      <td>0.0</td>\n",
       "    </tr>\n",
       "    <tr>\n",
       "      <th>97</th>\n",
       "      <td>0.488123</td>\n",
       "      <td>0.013177</td>\n",
       "      <td>0.0</td>\n",
       "    </tr>\n",
       "    <tr>\n",
       "      <th>98</th>\n",
       "      <td>0.492382</td>\n",
       "      <td>0.013177</td>\n",
       "      <td>0.0</td>\n",
       "    </tr>\n",
       "    <tr>\n",
       "      <th>99</th>\n",
       "      <td>0.496641</td>\n",
       "      <td>0.013177</td>\n",
       "      <td>0.0</td>\n",
       "    </tr>\n",
       "  </tbody>\n",
       "</table>\n",
       "<p>100 rows × 3 columns</p>\n",
       "</div>"
      ],
      "text/plain": [
       "    Lower Threshold       TPR  FPR\n",
       "0          0.075014  1.000000  1.0\n",
       "1          0.079272  1.000000  1.0\n",
       "2          0.083531  1.000000  1.0\n",
       "3          0.087790  1.000000  1.0\n",
       "4          0.092049  1.000000  1.0\n",
       "..              ...       ...  ...\n",
       "95         0.479606  0.013177  0.0\n",
       "96         0.483864  0.013177  0.0\n",
       "97         0.488123  0.013177  0.0\n",
       "98         0.492382  0.013177  0.0\n",
       "99         0.496641  0.013177  0.0\n",
       "\n",
       "[100 rows x 3 columns]"
      ]
     },
     "execution_count": 29,
     "metadata": {},
     "output_type": "execute_result"
    }
   ],
   "source": [
    "B_filter = df[\"race\"] == \"African-American\"\n",
    "B = df[B_filter]\n",
    "B_score = score[B_filter]\n",
    "TFPR_B = calc_TFPR(B[\"is_violent_recid\"], B_score, 100)\n",
    "TFPR_B"
   ]
  },
  {
   "cell_type": "code",
   "execution_count": 30,
   "metadata": {},
   "outputs": [
    {
     "data": {
      "text/plain": [
       "Text(0.5, 1.0, 'ROC Curve - African-American')"
      ]
     },
     "execution_count": 30,
     "metadata": {},
     "output_type": "execute_result"
    },
    {
     "data": {
      "image/png": "[encoded data removed]",
      "text/plain": [
       "<Figure size 432x288 with 1 Axes>"
      ]
     },
     "metadata": {
      "needs_background": "light"
     },
     "output_type": "display_data"
    }
   ],
   "source": [
    "plt.plot(TFPR_B[\"FPR\"], TFPR_B[\"TPR\"])\n",
    "plt.plot([0,1],[0,1],linestyle='-.')\n",
    "plt.xlabel(\"FPR\")\n",
    "plt.ylabel(\"TPR\")\n",
    "plt.title(\"ROC Curve - African-American\")"
   ]
  },
  {
   "cell_type": "markdown",
   "metadata": {},
   "source": [
    "## (c) Achieve Separation by Post-Processing"
   ]
  },
  {
   "cell_type": "markdown",
   "metadata": {},
   "source": [
    "The ideal TPR is 1 and the ideal FPR is 0. This would mean we should look for separation errors of 0. However, if the TPR for both groups is 0 and the FPR is 1, this also gives 0, and likewise if both the TPR and the FPR are 0. In terms of the ROC curve, we want the TPR and FPR corresponding to the upper left hand corner, with TPR = 1, FPR $\\approx$ 0. "
   ]
  },
  {
   "cell_type": "code",
   "execution_count": 31,
   "metadata": {},
   "outputs": [],
   "source": [
    "# oz stands for one zero\n",
    "oz_TFPR_W = TFPR_W[(TFPR_W[\"TPR\"] > 0) & (TFPR_W[\"FPR\"] < 1)]\n",
    "oz_TFPR_B = TFPR_B[(TFPR_B[\"TPR\"] > 0) & (TFPR_B[\"FPR\"] < 1)]"
   ]
  },
  {
   "cell_type": "code",
   "execution_count": 32,
   "metadata": {},
   "outputs": [
    {
     "data": {
      "text/html": [
       "<div>\n",
       "<style scoped>\n",
       "    .dataframe tbody tr th:only-of-type {\n",
       "        vertical-align: middle;\n",
       "    }\n",
       "\n",
       "    .dataframe tbody tr th {\n",
       "        vertical-align: top;\n",
       "    }\n",
       "\n",
       "    .dataframe thead th {\n",
       "        text-align: right;\n",
       "    }\n",
       "</style>\n",
       "<table border=\"1\" class=\"dataframe\">\n",
       "  <thead>\n",
       "    <tr style=\"text-align: right;\">\n",
       "      <th></th>\n",
       "      <th>Lower Threshold</th>\n",
       "      <th>TPR</th>\n",
       "      <th>FPR</th>\n",
       "    </tr>\n",
       "  </thead>\n",
       "  <tbody>\n",
       "    <tr>\n",
       "      <th>1</th>\n",
       "      <td>0.079272</td>\n",
       "      <td>1.0</td>\n",
       "      <td>0.036441</td>\n",
       "    </tr>\n",
       "    <tr>\n",
       "      <th>2</th>\n",
       "      <td>0.083531</td>\n",
       "      <td>1.0</td>\n",
       "      <td>0.036441</td>\n",
       "    </tr>\n",
       "    <tr>\n",
       "      <th>3</th>\n",
       "      <td>0.087790</td>\n",
       "      <td>1.0</td>\n",
       "      <td>0.036441</td>\n",
       "    </tr>\n",
       "    <tr>\n",
       "      <th>4</th>\n",
       "      <td>0.092049</td>\n",
       "      <td>1.0</td>\n",
       "      <td>0.036441</td>\n",
       "    </tr>\n",
       "    <tr>\n",
       "      <th>5</th>\n",
       "      <td>0.096308</td>\n",
       "      <td>1.0</td>\n",
       "      <td>0.036441</td>\n",
       "    </tr>\n",
       "  </tbody>\n",
       "</table>\n",
       "</div>"
      ],
      "text/plain": [
       "   Lower Threshold  TPR       FPR\n",
       "1         0.079272  1.0  0.036441\n",
       "2         0.083531  1.0  0.036441\n",
       "3         0.087790  1.0  0.036441\n",
       "4         0.092049  1.0  0.036441\n",
       "5         0.096308  1.0  0.036441"
      ]
     },
     "execution_count": 32,
     "metadata": {},
     "output_type": "execute_result"
    }
   ],
   "source": [
    "oz_TFPR_W.head()"
   ]
  },
  {
   "cell_type": "code",
   "execution_count": 33,
   "metadata": {},
   "outputs": [
    {
     "data": {
      "text/html": [
       "<div>\n",
       "<style scoped>\n",
       "    .dataframe tbody tr th:only-of-type {\n",
       "        vertical-align: middle;\n",
       "    }\n",
       "\n",
       "    .dataframe tbody tr th {\n",
       "        vertical-align: top;\n",
       "    }\n",
       "\n",
       "    .dataframe thead th {\n",
       "        text-align: right;\n",
       "    }\n",
       "</style>\n",
       "<table border=\"1\" class=\"dataframe\">\n",
       "  <thead>\n",
       "    <tr style=\"text-align: right;\">\n",
       "      <th></th>\n",
       "      <th>Lower Threshold</th>\n",
       "      <th>TPR</th>\n",
       "      <th>FPR</th>\n",
       "    </tr>\n",
       "  </thead>\n",
       "  <tbody>\n",
       "    <tr>\n",
       "      <th>21</th>\n",
       "      <td>0.164450</td>\n",
       "      <td>1.0</td>\n",
       "      <td>0.041645</td>\n",
       "    </tr>\n",
       "    <tr>\n",
       "      <th>22</th>\n",
       "      <td>0.168709</td>\n",
       "      <td>1.0</td>\n",
       "      <td>0.041645</td>\n",
       "    </tr>\n",
       "    <tr>\n",
       "      <th>23</th>\n",
       "      <td>0.172967</td>\n",
       "      <td>1.0</td>\n",
       "      <td>0.041645</td>\n",
       "    </tr>\n",
       "    <tr>\n",
       "      <th>24</th>\n",
       "      <td>0.177226</td>\n",
       "      <td>1.0</td>\n",
       "      <td>0.041645</td>\n",
       "    </tr>\n",
       "    <tr>\n",
       "      <th>25</th>\n",
       "      <td>0.181485</td>\n",
       "      <td>1.0</td>\n",
       "      <td>0.041645</td>\n",
       "    </tr>\n",
       "  </tbody>\n",
       "</table>\n",
       "</div>"
      ],
      "text/plain": [
       "    Lower Threshold  TPR       FPR\n",
       "21         0.164450  1.0  0.041645\n",
       "22         0.168709  1.0  0.041645\n",
       "23         0.172967  1.0  0.041645\n",
       "24         0.177226  1.0  0.041645\n",
       "25         0.181485  1.0  0.041645"
      ]
     },
     "execution_count": 33,
     "metadata": {},
     "output_type": "execute_result"
    }
   ],
   "source": [
    "oz_TFPR_B.head()"
   ]
  },
  {
   "cell_type": "code",
   "execution_count": 34,
   "metadata": {},
   "outputs": [],
   "source": [
    "TPR_term = np.abs(np.subtract.outer(list(oz_TFPR_W[\"TPR\"]), list(oz_TFPR_B[\"TPR\"])))\n",
    "FPR_term = np.abs(np.subtract.outer(list(oz_TFPR_W[\"FPR\"]), list(oz_TFPR_B[\"FPR\"])))\n",
    "sep_error = TPR_term + FPR_term"
   ]
  },
  {
   "cell_type": "code",
   "execution_count": 35,
   "metadata": {},
   "outputs": [],
   "source": [
    "x = oz_TFPR_W[\"Lower Threshold\"]\n",
    "y = oz_TFPR_B[\"Lower Threshold\"]\n",
    "coords = np.argwhere(sep_error == np.min(sep_error))\n",
    "pairs = [[x[w],y[b]] for w, b in zip(coords[:,0], coords[:,1])]"
   ]
  },
  {
   "cell_type": "code",
   "execution_count": 36,
   "metadata": {},
   "outputs": [
    {
     "data": {
      "text/html": [
       "<div>\n",
       "<style scoped>\n",
       "    .dataframe tbody tr th:only-of-type {\n",
       "        vertical-align: middle;\n",
       "    }\n",
       "\n",
       "    .dataframe tbody tr th {\n",
       "        vertical-align: top;\n",
       "    }\n",
       "\n",
       "    .dataframe thead th {\n",
       "        text-align: right;\n",
       "    }\n",
       "</style>\n",
       "<table border=\"1\" class=\"dataframe\">\n",
       "  <thead>\n",
       "    <tr style=\"text-align: right;\">\n",
       "      <th></th>\n",
       "      <th>Caucasian</th>\n",
       "      <th>African-American</th>\n",
       "    </tr>\n",
       "  </thead>\n",
       "  <tbody>\n",
       "    <tr>\n",
       "      <th>0</th>\n",
       "      <td>0.109085</td>\n",
       "      <td>0.185744</td>\n",
       "    </tr>\n",
       "    <tr>\n",
       "      <th>1</th>\n",
       "      <td>0.109085</td>\n",
       "      <td>0.190003</td>\n",
       "    </tr>\n",
       "    <tr>\n",
       "      <th>2</th>\n",
       "      <td>0.109085</td>\n",
       "      <td>0.194262</td>\n",
       "    </tr>\n",
       "    <tr>\n",
       "      <th>3</th>\n",
       "      <td>0.109085</td>\n",
       "      <td>0.198521</td>\n",
       "    </tr>\n",
       "    <tr>\n",
       "      <th>4</th>\n",
       "      <td>0.109085</td>\n",
       "      <td>0.202780</td>\n",
       "    </tr>\n",
       "    <tr>\n",
       "      <th>5</th>\n",
       "      <td>0.113343</td>\n",
       "      <td>0.185744</td>\n",
       "    </tr>\n",
       "    <tr>\n",
       "      <th>6</th>\n",
       "      <td>0.113343</td>\n",
       "      <td>0.190003</td>\n",
       "    </tr>\n",
       "    <tr>\n",
       "      <th>7</th>\n",
       "      <td>0.113343</td>\n",
       "      <td>0.194262</td>\n",
       "    </tr>\n",
       "    <tr>\n",
       "      <th>8</th>\n",
       "      <td>0.113343</td>\n",
       "      <td>0.198521</td>\n",
       "    </tr>\n",
       "    <tr>\n",
       "      <th>9</th>\n",
       "      <td>0.113343</td>\n",
       "      <td>0.202780</td>\n",
       "    </tr>\n",
       "    <tr>\n",
       "      <th>10</th>\n",
       "      <td>0.117602</td>\n",
       "      <td>0.185744</td>\n",
       "    </tr>\n",
       "    <tr>\n",
       "      <th>11</th>\n",
       "      <td>0.117602</td>\n",
       "      <td>0.190003</td>\n",
       "    </tr>\n",
       "    <tr>\n",
       "      <th>12</th>\n",
       "      <td>0.117602</td>\n",
       "      <td>0.194262</td>\n",
       "    </tr>\n",
       "    <tr>\n",
       "      <th>13</th>\n",
       "      <td>0.117602</td>\n",
       "      <td>0.198521</td>\n",
       "    </tr>\n",
       "    <tr>\n",
       "      <th>14</th>\n",
       "      <td>0.117602</td>\n",
       "      <td>0.202780</td>\n",
       "    </tr>\n",
       "    <tr>\n",
       "      <th>15</th>\n",
       "      <td>0.121861</td>\n",
       "      <td>0.185744</td>\n",
       "    </tr>\n",
       "    <tr>\n",
       "      <th>16</th>\n",
       "      <td>0.121861</td>\n",
       "      <td>0.190003</td>\n",
       "    </tr>\n",
       "    <tr>\n",
       "      <th>17</th>\n",
       "      <td>0.121861</td>\n",
       "      <td>0.194262</td>\n",
       "    </tr>\n",
       "    <tr>\n",
       "      <th>18</th>\n",
       "      <td>0.121861</td>\n",
       "      <td>0.198521</td>\n",
       "    </tr>\n",
       "    <tr>\n",
       "      <th>19</th>\n",
       "      <td>0.121861</td>\n",
       "      <td>0.202780</td>\n",
       "    </tr>\n",
       "    <tr>\n",
       "      <th>20</th>\n",
       "      <td>0.126120</td>\n",
       "      <td>0.185744</td>\n",
       "    </tr>\n",
       "    <tr>\n",
       "      <th>21</th>\n",
       "      <td>0.126120</td>\n",
       "      <td>0.190003</td>\n",
       "    </tr>\n",
       "    <tr>\n",
       "      <th>22</th>\n",
       "      <td>0.126120</td>\n",
       "      <td>0.194262</td>\n",
       "    </tr>\n",
       "    <tr>\n",
       "      <th>23</th>\n",
       "      <td>0.126120</td>\n",
       "      <td>0.198521</td>\n",
       "    </tr>\n",
       "    <tr>\n",
       "      <th>24</th>\n",
       "      <td>0.126120</td>\n",
       "      <td>0.202780</td>\n",
       "    </tr>\n",
       "    <tr>\n",
       "      <th>25</th>\n",
       "      <td>0.130379</td>\n",
       "      <td>0.185744</td>\n",
       "    </tr>\n",
       "    <tr>\n",
       "      <th>26</th>\n",
       "      <td>0.130379</td>\n",
       "      <td>0.190003</td>\n",
       "    </tr>\n",
       "    <tr>\n",
       "      <th>27</th>\n",
       "      <td>0.130379</td>\n",
       "      <td>0.194262</td>\n",
       "    </tr>\n",
       "    <tr>\n",
       "      <th>28</th>\n",
       "      <td>0.130379</td>\n",
       "      <td>0.198521</td>\n",
       "    </tr>\n",
       "    <tr>\n",
       "      <th>29</th>\n",
       "      <td>0.130379</td>\n",
       "      <td>0.202780</td>\n",
       "    </tr>\n",
       "  </tbody>\n",
       "</table>\n",
       "</div>"
      ],
      "text/plain": [
       "    Caucasian  African-American\n",
       "0    0.109085          0.185744\n",
       "1    0.109085          0.190003\n",
       "2    0.109085          0.194262\n",
       "3    0.109085          0.198521\n",
       "4    0.109085          0.202780\n",
       "5    0.113343          0.185744\n",
       "6    0.113343          0.190003\n",
       "7    0.113343          0.194262\n",
       "8    0.113343          0.198521\n",
       "9    0.113343          0.202780\n",
       "10   0.117602          0.185744\n",
       "11   0.117602          0.190003\n",
       "12   0.117602          0.194262\n",
       "13   0.117602          0.198521\n",
       "14   0.117602          0.202780\n",
       "15   0.121861          0.185744\n",
       "16   0.121861          0.190003\n",
       "17   0.121861          0.194262\n",
       "18   0.121861          0.198521\n",
       "19   0.121861          0.202780\n",
       "20   0.126120          0.185744\n",
       "21   0.126120          0.190003\n",
       "22   0.126120          0.194262\n",
       "23   0.126120          0.198521\n",
       "24   0.126120          0.202780\n",
       "25   0.130379          0.185744\n",
       "26   0.130379          0.190003\n",
       "27   0.130379          0.194262\n",
       "28   0.130379          0.198521\n",
       "29   0.130379          0.202780"
      ]
     },
     "execution_count": 36,
     "metadata": {},
     "output_type": "execute_result"
    }
   ],
   "source": [
    "pairs = pandas.DataFrame(pairs, columns=[\"Caucasian\", \"African-American\"])\n",
    "pairs"
   ]
  },
  {
   "cell_type": "markdown",
   "metadata": {},
   "source": [
    "The table above are pairs of thresholds that would give the lowest separation error while maximizing TPR and minimizing FPR. The first column is the threshold for Caucasians and the second is for African-American. We can see from the table that the threshold is lower for Caucasians than African-Americans. We can also see this in the mean and median below. Recall that the score, the output from logistic regression, is the predicted probability of scoring high. Our goal is to look for bias in the COMPAS scoring system. We can see that this model implies that African-Americans more likely to get a high COMPAS score. Therefore, it suggests that there is bias in the COMPAS score, as race makes a big difference in the model."
   ]
  },
  {
   "cell_type": "code",
   "execution_count": 37,
   "metadata": {},
   "outputs": [
    {
     "data": {
      "text/html": [
       "<div>\n",
       "<style scoped>\n",
       "    .dataframe tbody tr th:only-of-type {\n",
       "        vertical-align: middle;\n",
       "    }\n",
       "\n",
       "    .dataframe tbody tr th {\n",
       "        vertical-align: top;\n",
       "    }\n",
       "\n",
       "    .dataframe thead th {\n",
       "        text-align: right;\n",
       "    }\n",
       "</style>\n",
       "<table border=\"1\" class=\"dataframe\">\n",
       "  <thead>\n",
       "    <tr style=\"text-align: right;\">\n",
       "      <th></th>\n",
       "      <th>Caucasian</th>\n",
       "      <th>African-American</th>\n",
       "    </tr>\n",
       "  </thead>\n",
       "  <tbody>\n",
       "    <tr>\n",
       "      <th>count</th>\n",
       "      <td>30.000000</td>\n",
       "      <td>30.000000</td>\n",
       "    </tr>\n",
       "    <tr>\n",
       "      <th>mean</th>\n",
       "      <td>0.119732</td>\n",
       "      <td>0.194262</td>\n",
       "    </tr>\n",
       "    <tr>\n",
       "      <th>std</th>\n",
       "      <td>0.007398</td>\n",
       "      <td>0.006126</td>\n",
       "    </tr>\n",
       "    <tr>\n",
       "      <th>min</th>\n",
       "      <td>0.109085</td>\n",
       "      <td>0.185744</td>\n",
       "    </tr>\n",
       "    <tr>\n",
       "      <th>25%</th>\n",
       "      <td>0.113343</td>\n",
       "      <td>0.190003</td>\n",
       "    </tr>\n",
       "    <tr>\n",
       "      <th>50%</th>\n",
       "      <td>0.119732</td>\n",
       "      <td>0.194262</td>\n",
       "    </tr>\n",
       "    <tr>\n",
       "      <th>75%</th>\n",
       "      <td>0.126120</td>\n",
       "      <td>0.198521</td>\n",
       "    </tr>\n",
       "    <tr>\n",
       "      <th>max</th>\n",
       "      <td>0.130379</td>\n",
       "      <td>0.202780</td>\n",
       "    </tr>\n",
       "  </tbody>\n",
       "</table>\n",
       "</div>"
      ],
      "text/plain": [
       "       Caucasian  African-American\n",
       "count  30.000000         30.000000\n",
       "mean    0.119732          0.194262\n",
       "std     0.007398          0.006126\n",
       "min     0.109085          0.185744\n",
       "25%     0.113343          0.190003\n",
       "50%     0.119732          0.194262\n",
       "75%     0.126120          0.198521\n",
       "max     0.130379          0.202780"
      ]
     },
     "execution_count": 37,
     "metadata": {},
     "output_type": "execute_result"
    }
   ],
   "source": [
    "pairs.describe()"
   ]
  }
 ],
 "metadata": {
  "authors": [
   {
    "name": "Sampson Mao"
   },
   {
    "name": "samao@ucsc.edu"
   }
  ],
  "kernelspec": {
   "display_name": "Python 3",
   "language": "python",
   "name": "python3"
  },
  "language_info": {
   "codemirror_mode": {
    "name": "ipython",
    "version": 3
   },
   "file_extension": ".py",
   "mimetype": "text/x-python",
   "name": "python",
   "nbconvert_exporter": "python",
   "pygments_lexer": "ipython3",
   "version": "3.7.8"
  },
  "title": "CSE 242 Homework 4"
 },
 "nbformat": 4,
 "nbformat_minor": 4
}
