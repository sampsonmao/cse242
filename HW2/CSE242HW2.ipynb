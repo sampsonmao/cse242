{
 "cells": [
  {
   "cell_type": "markdown",
   "metadata": {},
   "source": [
    "# Logistic regression"
   ]
  },
  {
   "cell_type": "markdown",
   "metadata": {},
   "source": [
    "## (a)\n",
    "$$\n",
    "\\begin{aligned}\n",
    "q = g(w^T x) &= \\frac{e^{w^Tx}}{1+e^{w^Tx}} \\\\\n",
    "\\frac{1}{q} = \\frac{1+e^{w^Tx}}{e^{w^Tx}} &= \\frac{1}{e^{w^Tx}} + 1 \\\\\n",
    "\\frac{1}{q} - 1 &= \\frac{1}{e^{w^Tx}} \\\\\n",
    "\\log \\left(\\frac{1-q}{q}\\right) &= -\\log e^{w^Tx} \\\\\n",
    "-\\log \\left(\\frac{1-q}{q}\\right) &= w^Tx \\\\\n",
    "\\implies \\log \\left(\\frac{q}{1-q}\\right) &= w^Tx\n",
    "\\end{aligned}\n",
    "$$\n"
   ]
  },
  {
   "cell_type": "markdown",
   "metadata": {},
   "source": [
    "## (b)\n",
    "\n",
    "If we view $g$ in terms of the likelihood, then $g$ is a function of the vector parameter $\\boldsymbol{w}$. Below, I will use properties of vector derivatives to arrive at the result.\n",
    "\n",
    "Let $\\ell(\\boldsymbol{w};\\boldsymbol{x}) = \\log g(\\boldsymbol{w}^T\\boldsymbol{x})$\n",
    "\n",
    "$$\n",
    "\\begin{aligned}\n",
    "\\frac{\\partial \\ell(\\boldsymbol{w};\\boldsymbol{x})}{\\partial \\boldsymbol{w}} &= \\frac{\\partial}{\\partial \\boldsymbol{w}} \\left( \\boldsymbol{w}^T\\boldsymbol{x} - \\log(1+e^{\\boldsymbol{w}^T\\boldsymbol{x}}) \\right) \\\\\n",
    "&=  \\frac{\\partial}{\\partial \\boldsymbol{w}} \\boldsymbol{w}^T\\boldsymbol{x} -  \\frac{\\partial}{\\partial \\boldsymbol{w}} \\log(1+e^{\\boldsymbol{w}^T\\boldsymbol{x}})\\\\\n",
    "&= \\boldsymbol{x} - \\frac{e^{\\boldsymbol{w}^T\\boldsymbol{x}}}{1+e^{\\boldsymbol{w}^T\\boldsymbol{x}}}\\boldsymbol{x} & \\left( \\frac{\\partial \\boldsymbol{w}^T\\boldsymbol{x}}{\\partial \\boldsymbol{w}} = \\boldsymbol{x} \\right) \\\\\n",
    "&= \\boldsymbol{x}\\left(1-\\frac{e^{\\boldsymbol{w}^T\\boldsymbol{x}}}{1+e^{\\boldsymbol{w}^T\\boldsymbol{x}}}\\right) \\\\\n",
    "&= \\boldsymbol{x}\\left(1-g(\\boldsymbol{w}^T\\boldsymbol{x})\\right)\n",
    "\\end{aligned}\n",
    "$$"
   ]
  },
  {
   "cell_type": "markdown",
   "metadata": {},
   "source": [
    "# Naive Bayes"
   ]
  },
  {
   "cell_type": "markdown",
   "metadata": {},
   "source": [
    "We would like to predict the quantity $P(Type|GPA, AP)$, where $Type$ can be honors $H$ or normal $N$. Using Bayes rule,\n",
    "\n",
    "$$\n",
    "\\begin{aligned}\n",
    "P(Type|GPA, AP) &= \\frac{P(GPA, AP|Type)P(Type)}{P(GPA,AP)}\n",
    "\\end{aligned}\n",
    "$$\n",
    "\n",
    "Then by conditional independence of GPA and AP (the Naive assumption),\n",
    "\n",
    "$$\n",
    "\\begin{aligned}\n",
    "P(Type|GPA, AP) &= \\frac{P(GPA|Type)P(AP|Type)P(Type)}{P(GPA,AP)} \\\\\n",
    "\\end{aligned}\n",
    "$$\n",
    "\n",
    "\n",
    "From the problem we have that the conditional distribution of the GPA is a Gaussian distribution and the conditional distribution of taking AP classes is a Bernoulli distribution. "
   ]
  },
  {
   "cell_type": "markdown",
   "metadata": {},
   "source": [
    "\n",
    "The likelihood of the conditional Gaussian distribution using the data is as follows. Here, $n$ is the number of Types in the honors class when we are finding $P(H|GPA, AP)$ and the number in the normal class when finding $P(N|GPA, AP)$\n",
    "\n",
    "$$\n",
    "\\begin{aligned}\n",
    "P(GPA|Type) &= \\prod_{i=1}^n \\frac{1}{\\sqrt{2\\pi\\sigma^2}} \\exp \\left\\{- \\frac{(GPA_i - \\mu)^2}{2\\sigma^2} \\right\\} \\\\\n",
    "\\log P(GPA|Type) &= \\sum_{i=1}^n \\left(-\\frac{1}{2}\\log 2\\pi\\sigma^2 - \\frac{(GPA_i-\\mu)^2}{2\\sigma^2}\\right) \\\\\n",
    "\\end{aligned}\n",
    "$$\n",
    "\n",
    "Finding $\\hat{\\mu}_{MLE}$ involves finding the derivative with respect to $\\mu$ in the squared term, which we can simplify first. Denote $\\overline{GPA} = \\frac{1}{n}\\sum_{i=1}^n GPA_i$\n",
    "\n",
    "$$\n",
    "\\begin{aligned}\n",
    "\\sum_{i=1}^n (GPA_i-\\mu)^2 &= \\sum_{i=1}^n (GPA_i - \\overline{GPA} + \\overline{GPA} -\\mu)^2 \\\\\n",
    "&= \\sum_{i=1}^n (GPA_i - \\overline{GPA})^2 -2\\sum_{i=1}^n(GPA_i - \\overline{GPA})(\\overline{GPA} -\\mu) + \\sum_{i=1}^n(\\overline{GPA} -\\mu)^2 \\\\\n",
    "&= \\sum_{i=1}^n (GPA_i - \\overline{GPA})^2 -2(n\\cdot\\overline{GPA} - n\\cdot\\overline{GPA})(\\overline{GPA} -\\mu) + \\sum_{i=1}^n(\\overline{GPA} -\\mu)^2 \\\\\n",
    "&= \\sum_{i=1}^n (GPA_i - \\overline{GPA})^2 + n(\\overline{GPA} -\\mu)^2 \\\\\n",
    "&\\propto (\\overline{GPA} -\\mu)^2\n",
    "\\end{aligned}\n",
    "$$\n",
    "\n",
    "Taking the derivative with respect to $\\mu$, we find that $\\hat{\\mu}_{MLE} = \\overline{GPA}$.\n",
    "\n",
    "For $\\hat{\\sigma^2}_{MLE}$, first simplify the log-likelihood to keep terms important to $\\sigma^2$\n",
    "\n",
    "$$\n",
    "\\begin{aligned}\n",
    "\\log P(GPA|H) &= \\sum_{i=1}^n \\left(-\\frac{1}{2}\\log 2\\pi\\sigma^2 - \\frac{(GPA_i-\\mu)^2}{2\\sigma^2}\\right) \\\\\n",
    "&\\propto -\\frac{n}{2}\\log \\sigma^2 - \\frac{1}{2\\sigma^2}\\sum_{i=1}^n (GPA_i-\\mu)^2 \n",
    "\\\\ \\\\\n",
    "\\frac{\\partial}{\\partial \\sigma^2} \\log P(GPA|H) &= -\\frac{n}{2\\sigma^2} + \\frac{1}{2(\\sigma^2)^2}\\sum_{i=1}^n (GPA_i-\\mu)^2 = 0 \\\\\n",
    " \\frac{1}{(\\sigma^2)^2}\\sum_{i=1}^n (GPA_i-\\mu)^2 &= \\frac{n}{\\sigma^2} \\\\\n",
    " \\hat{\\sigma^2}_{MLE} &= \\frac{1}{n} \\sum_{i=1}^n (GPA_i-\\hat{\\mu}_{MLE})^2\n",
    "\\end{aligned}\n",
    "$$"
   ]
  },
  {
   "cell_type": "markdown",
   "metadata": {},
   "source": [
    "Meanwhile the AP probability has a Bernoulli distribution, so the pmf is\n",
    "\n",
    "$$\n",
    "P(AP|Type) = p^{AP}(1-p)^{1-AP}\n",
    "$$\n",
    "\n",
    "where $AP=1$ is having taken the AP course and $AP=0$ otherwise. $\\hat{p}_{MLE}$ is the proportion of honors or non-honors students that have taken AP courses."
   ]
  },
  {
   "cell_type": "markdown",
   "metadata": {},
   "source": [
    "So for the honors case,\n",
    "$$\n",
    "\\hat{\\mu}_{H,MLE} = \\frac{4 + 3.7 + 2.5}{3} = 3.4 \\\\\n",
    "\\hat{\\sigma^2}_{H, MLE} = \\frac{(4 - 3.4)^2 + (3.7 - 3.4)^2 + (2.5 - 3.4)^2 }{3} = 0.42 \\\\\n",
    "\\hat{p}_{H,MLE} = \\frac{2}{3}\n",
    "$$\n",
    "\n",
    "Likewise for the normal case,\n",
    "$$\n",
    "\\hat{\\mu}_{N,MLE} = 3 \\\\\n",
    "\\hat{\\sigma^2}_{N, MLE} = 0.243 \\\\\n",
    "\\hat{p}_{H,MLE} = \\frac{2}{6}\n",
    "$$"
   ]
  },
  {
   "cell_type": "markdown",
   "metadata": {},
   "source": [
    "\n",
    "$$\n",
    "\\begin{aligned}\n",
    "P(H|GPA, AP) &= \\frac{P(GPA|H)P(AP|H)P(H)}{P(GPA,AP)} =  \\frac{P(GPA|H)P(AP|H)P(H)}{P(GPA|H)P(AP|H)P(H) + P(GPA|N)P(AP|N)P(N)}\\\\\\\\\n",
    "&=\\frac{\\frac{1}{\\sqrt{2\\pi \\cdot 0.42}} \\exp \\left\\{-\\frac{(GPA - 3.4)^2}{2\\cdot 0.42}\\right\\} \\left(\\frac{2}{3}\\right)^{AP} \\left(\\frac{1}{3}\\right)^{1-AP} \\left(\\frac{3}{9}\\right)}{\\frac{1}{\\sqrt{2\\pi \\cdot 0.42}} \\exp \\left\\{-\\frac{(GPA - 3.4)^2}{2\\cdot 0.42}\\right\\} \\left(\\frac{2}{3}\\right)^{AP} \\left(\\frac{1}{3}\\right)^{1-AP} \\left(\\frac{3}{9}\\right) + \\frac{1}{\\sqrt{2\\pi \\cdot 0.243}} \\exp \\left\\{-\\frac{(GPA - 3)^2}{2\\cdot 0.243}\\right\\} \\left(\\frac{1}{3}\\right)^{AP} \\left(\\frac{2}{3}\\right)^{1-AP} \\left(\\frac{6}{9}\\right)}\n",
    "\\end{aligned}\n",
    "$$\n"
   ]
  },
  {
   "cell_type": "markdown",
   "metadata": {},
   "source": [
    "\n",
    "$$\n",
    "\\begin{aligned}\n",
    "P(H|GPA, AP=1)\n",
    "&=\n",
    "\\frac{\\frac{1}{\\sqrt{2\\pi \\cdot 0.42}} \\exp \\left\\{-\\frac{(GPA - 3.4)^2}{2\\cdot 0.42}\\right\\} \\left(\\frac{2}{3}\\right) \\left(\\frac{3}{9}\\right)}{\\frac{1}{\\sqrt{2\\pi \\cdot 0.42}} \\exp \\left\\{-\\frac{(GPA - 3.4)^2}{2\\cdot 0.42}\\right\\} \\left(\\frac{2}{3}\\right) \\left(\\frac{3}{9}\\right) + \\frac{1}{\\sqrt{2\\pi \\cdot 0.243}} \\exp \\left\\{-\\frac{(GPA - 3)^2}{2\\cdot 0.243}\\right\\} \\left(\\frac{1}{3}\\right) \\left(\\frac{6}{9}\\right)} \\\\\n",
    "0.5 &\\geq\n",
    "\\frac{0.1368 \\exp \\left\\{-\\frac{(GPA - 3.4)^2}{0.84}\\right\\}}{0.1368 \\exp \\left\\{-\\frac{(GPA - 3.4)^2}{0.84}\\right\\} + 0.1797\\exp \\left\\{-\\frac{(GPA - 3)^2}{0.486}\\right\\}} \\\\\n",
    "2 &\\geq 1 + \\frac{0.1797\\exp \\left\\{-\\frac{(GPA - 3)^2}{0.486}\\right\\}}{0.1368 \\exp \\left\\{-\\frac{(GPA - 3.4)^2}{0.84}\\right\\}} \\\\\n",
    "0 &\\geq \\log \\left(\\frac{0.1797}{0.1368}\\right) - \\frac{(GPA-3)^2}{0.486} + \\frac{(GPA-3.4)^2}{0.84} \\\\ \\\\\n",
    "& GPA \\geq 3.365 \\text{ or } GPA \\leq 1.537\n",
    "\\end{aligned}\n",
    "$$"
   ]
  },
  {
   "cell_type": "markdown",
   "metadata": {},
   "source": [
    "$$\n",
    "\\begin{aligned}\n",
    "P(H|GPA, AP=0)\n",
    "&=\n",
    "\\frac{\\frac{1}{\\sqrt{2\\pi \\cdot 0.42}} \\exp \\left\\{-\\frac{(GPA - 3.4)^2}{2\\cdot 0.42}\\right\\} \\left(\\frac{1}{3}\\right) \\left(\\frac{3}{9}\\right)}{\\frac{1}{\\sqrt{2\\pi \\cdot 0.42}} \\exp \\left\\{-\\frac{(GPA - 3.4)^2}{2\\cdot 0.42}\\right\\} \\left(\\frac{1}{3}\\right) \\left(\\frac{3}{9}\\right) + \\frac{1}{\\sqrt{2\\pi \\cdot 0.243}} \\exp \\left\\{-\\frac{(GPA - 3)^2}{2\\cdot 0.243}\\right\\} \\left(\\frac{2}{3}\\right) \\left(\\frac{6}{9}\\right)} \\\\\n",
    "0.5&\\geq\n",
    "\\frac{0.06840 \\exp \\left\\{-\\frac{(GPA - 3.4)^2}{0.84}\\right\\} }{0.06840 \\exp \\left\\{-\\frac{(GPA - 3.4)^2}{0.84}\\right\\}  + 0.3596\\exp \\left\\{-\\frac{(GPA - 3)^2}{0.486}\\right\\}} \\\\\n",
    "2 &\\geq 1 + \\frac{0.3596\\exp \\left\\{-\\frac{(GPA - 3)^2}{0.486}\\right\\}}{0.06840 \\exp \\left\\{-\\frac{(GPA - 3.4)^2}{0.84}\\right\\}} \\\\\n",
    "0 &\\geq \\log \\left(\\frac{0.3596}{0.06840}\\right) - \\frac{(GPA-3)^2}{0.486} + \\frac{(GPA-3.4)^2}{0.84} \\\\ \\\\\n",
    "& GPA \\geq 4.011 \\text{ or } GPA \\leq 0.890\n",
    "\\end{aligned}\n",
    "$$"
   ]
  },
  {
   "cell_type": "markdown",
   "metadata": {},
   "source": [
    "Using a threshold of 0.50,\n",
    "\n",
    "If AP courses are taken, predict H if the GPA is between 0 and 1.533, and 3.365 to 4;\n",
    "\n",
    "if AP courses are not taken, predict H if the GPA is between 0 and 0.890. (GPA is from 0 to 4 only)\n",
    "\n",
    "The calculations were done with Wolfram alpha."
   ]
  },
  {
   "cell_type": "markdown",
   "metadata": {},
   "source": [
    "# Nearest Neighbor"
   ]
  },
  {
   "cell_type": "markdown",
   "metadata": {},
   "source": [
    "## (a)\n",
    "Let's call $Y$ the predicted label and $t$ the actual label. We would like to find the quantity\n",
    "\n",
    "$$\n",
    "P(Y \\neq t)\n",
    "$$\n",
    "\n",
    "So either the predicted value $y=+$ and $t=-$ or $y=-$ and $t=+$\n",
    "\n",
    "$$\n",
    "\\begin{aligned}\n",
    "P(Y \\neq t) &= P(Y=+, t=-) + P(Y=-, t=+) \\\\\n",
    "&= P(Y=+)P(t=-) + P(Y=-)P(t=+) \n",
    "\\end{aligned}\n",
    "$$\n",
    "\n",
    "The predicted point comes from a majority vote (i.e. at least 2 of the points must be the same out of 3). Call the 3 nearest neighbors $X_1, X_2, X_3$\n",
    "\n",
    "$$\n",
    "P(Y=y) = P(X_1=y)P(X_2=y)P(X_3=y) + {3 \\choose 1}P(X_1=y)P(X_2=y)P(X_3=(1-y))\n",
    "$$\n",
    "\n",
    "$$\n",
    "\\begin{aligned}\n",
    "P(Y \\neq t) &= P(Y=+, t=-) + P(Y=-, t=+) \\\\\n",
    "&= \\left(P(+++)+ 3P(++-)\\right)P(t=-) + \\left(P(---)+ 3P(+--)\\right)P(t=+) \\\\\n",
    "&= \\left[\\left(\\frac{2}{3}\\right)^3 + 3\\left(\\frac{2}{3}\\right)^2\\left(\\frac{1}{3}\\right)\\right]\\left(\\frac{1}{3}\\right) +\n",
    "\\left[\\left(\\frac{1}{3}\\right)^3 + 3\\left(\\frac{2}{3}\\right)\\left(\\frac{1}{3}\\right)^2 \\right]\\left(\\frac{2}{3}\\right) \\\\\n",
    "&= \\frac{34}{81} \\approx 42\\%\n",
    "\\end{aligned}\n",
    "$$"
   ]
  },
  {
   "cell_type": "markdown",
   "metadata": {},
   "source": [
    "## (b)\n",
    "\n",
    "When the probability of \"-\" is $1/10$, then the probability of \"+\" is $9/10$. Therefore\n",
    "\n",
    "$$\n",
    "\\begin{aligned}\n",
    "P(Y \\neq t) &= \\left(P(+++)+ 3P(++-)\\right)P(t=-) + \\left(P(---)+ 3P(+--)\\right)P(t=+) \\\\\n",
    "&= \\left[\\left(\\frac{9}{10}\\right)^3 + 3\\left(\\frac{9}{10}\\right)^2\\left(\\frac{1}{10}\\right)\\right]\\left(\\frac{1}{10}\\right) +\n",
    "\\left[\\left(\\frac{1}{10}\\right)^3 + 3\\left(\\frac{9}{10}\\right)\\left(\\frac{1}{10}\\right)^2 \\right]\\left(\\frac{9}{10}\\right) \\\\\n",
    "&= 0.1224 = 12.24\\%\n",
    "\\end{aligned}\n",
    "$$\n"
   ]
  },
  {
   "cell_type": "markdown",
   "metadata": {},
   "source": [
    "# Decision Tree"
   ]
  },
  {
   "cell_type": "markdown",
   "metadata": {},
   "source": [
    "## (a)"
   ]
  },
  {
   "cell_type": "markdown",
   "metadata": {},
   "source": [
    "Code the gender `\"F\"` as `1` and `\"M\"` as `0`. Similarly code the preference `\"B\"` as `1` and `\"H\"` as `0`."
   ]
  },
  {
   "cell_type": "code",
   "execution_count": 1,
   "metadata": {},
   "outputs": [
    {
     "data": {
      "text/html": [
       "<div>\n",
       "<style scoped>\n",
       "    .dataframe tbody tr th:only-of-type {\n",
       "        vertical-align: middle;\n",
       "    }\n",
       "\n",
       "    .dataframe tbody tr th {\n",
       "        vertical-align: top;\n",
       "    }\n",
       "\n",
       "    .dataframe thead th {\n",
       "        text-align: right;\n",
       "    }\n",
       "</style>\n",
       "<table border=\"1\" class=\"dataframe\">\n",
       "  <thead>\n",
       "    <tr style=\"text-align: right;\">\n",
       "      <th></th>\n",
       "      <th>Gender</th>\n",
       "      <th>Income</th>\n",
       "      <th>Preference</th>\n",
       "    </tr>\n",
       "  </thead>\n",
       "  <tbody>\n",
       "    <tr>\n",
       "      <th>7</th>\n",
       "      <td>1</td>\n",
       "      <td>70</td>\n",
       "      <td>0</td>\n",
       "    </tr>\n",
       "    <tr>\n",
       "      <th>3</th>\n",
       "      <td>0</td>\n",
       "      <td>75</td>\n",
       "      <td>1</td>\n",
       "    </tr>\n",
       "    <tr>\n",
       "      <th>2</th>\n",
       "      <td>1</td>\n",
       "      <td>80</td>\n",
       "      <td>1</td>\n",
       "    </tr>\n",
       "    <tr>\n",
       "      <th>5</th>\n",
       "      <td>1</td>\n",
       "      <td>85</td>\n",
       "      <td>0</td>\n",
       "    </tr>\n",
       "    <tr>\n",
       "      <th>6</th>\n",
       "      <td>0</td>\n",
       "      <td>85</td>\n",
       "      <td>0</td>\n",
       "    </tr>\n",
       "    <tr>\n",
       "      <th>4</th>\n",
       "      <td>1</td>\n",
       "      <td>90</td>\n",
       "      <td>0</td>\n",
       "    </tr>\n",
       "    <tr>\n",
       "      <th>0</th>\n",
       "      <td>1</td>\n",
       "      <td>100</td>\n",
       "      <td>1</td>\n",
       "    </tr>\n",
       "    <tr>\n",
       "      <th>1</th>\n",
       "      <td>0</td>\n",
       "      <td>150</td>\n",
       "      <td>1</td>\n",
       "    </tr>\n",
       "  </tbody>\n",
       "</table>\n",
       "</div>"
      ],
      "text/plain": [
       "   Gender  Income  Preference\n",
       "7       1      70           0\n",
       "3       0      75           1\n",
       "2       1      80           1\n",
       "5       1      85           0\n",
       "6       0      85           0\n",
       "4       1      90           0\n",
       "0       1     100           1\n",
       "1       0     150           1"
      ]
     },
     "execution_count": 1,
     "metadata": {},
     "output_type": "execute_result"
    }
   ],
   "source": [
    "import pandas as pd\n",
    "import numpy as np\n",
    "\n",
    "data = np.array([[  1, 100,   1],\n",
    "       [  0, 150,   1],\n",
    "       [  1,  80,   1],\n",
    "       [  0,  75,   1],\n",
    "       [  1,  90,   0],\n",
    "       [  1,  85,   0],\n",
    "       [  0,  85,   0],\n",
    "       [  1,  70,   0]])\n",
    "\n",
    "data = pd.DataFrame(data)\n",
    "data.columns = [\"Gender\", \"Income\", \"Preference\"]\n",
    "\n",
    "data.sort_values(\"Income\")"
   ]
  },
  {
   "cell_type": "markdown",
   "metadata": {},
   "source": [
    "So sammy will need to consider $4$ values of $a$. They are $75,85,100, 150$. These are the values at which the preference changes."
   ]
  },
  {
   "cell_type": "markdown",
   "metadata": {},
   "source": [
    "## (b)\n",
    "\n",
    "$$\n",
    "\\begin{aligned}\n",
    "Entropy(Car Type) &= -p_+ \\log_2 p_+ - p_- \\log_2 p_- \\\\\n",
    "&= -\\left(\\frac{4}{8}\\right) \\log_2 \\left(\\frac{4}{8}\\right) -\\left(\\frac{4}{8}\\right) \\log_2 \\left(\\frac{4}{8}\\right) \\\\\n",
    "&= 1\n",
    "\\end{aligned}\n",
    "$$"
   ]
  },
  {
   "cell_type": "markdown",
   "metadata": {},
   "source": [
    "## (c)"
   ]
  },
  {
   "cell_type": "markdown",
   "metadata": {},
   "source": [
    "$$\n",
    "Gain(S,a) = Entropy(S) - \\sum_{v\\in values(a)} \\frac{|S_v|}{S} Entropy(S_v)\n",
    "$$"
   ]
  },
  {
   "cell_type": "code",
   "execution_count": 2,
   "metadata": {},
   "outputs": [],
   "source": [
    "def calculate_entropy(y):\n",
    "    p_plus = sum(y)/len(y)\n",
    "    p_minus = 1 - p_plus\n",
    "    if ((p_plus == 1) or (p_minus == 1)):\n",
    "        return 0\n",
    "    else:\n",
    "        entropy = -p_plus*np.log2(p_plus) - p_minus*np.log2(p_minus)\n",
    "        return(entropy)\n",
    "\n",
    "def calculate_gain(init_entropy, data, thresholds):\n",
    "    gains = []\n",
    "    gender_m = calculate_entropy(data[data[\"Gender\"] == 0][\"Preference\"])\n",
    "    gender_f = calculate_entropy(data[data[\"Gender\"] == 1][\"Preference\"])\n",
    "    prop_f = sum(data[\"Gender\"])/len(data[\"Gender\"])\n",
    "    prop_m = 1-prop_f\n",
    "    gender_gain = init_entropy-(prop_m*gender_m + prop_f*gender_f)\n",
    "    gains.append(gender_gain)\n",
    "    \n",
    "    for a in thresholds:\n",
    "        less_a = calculate_entropy(data[data[\"Income\"] < a][\"Preference\"])\n",
    "        greater_a = calculate_entropy(data[data[\"Income\"] >= a][\"Preference\"])\n",
    "        prop_less = sum(data[\"Income\"] < a)/len(data[\"Income\"])\n",
    "        prop_greater = sum(data[\"Income\"] >= a)/len(data[\"Income\"])\n",
    "        a_gain = init_entropy-(prop_less*less_a +prop_greater*greater_a)\n",
    "        gains.append(a_gain)\n",
    "    index = [\"Gender\"] + thresholds\n",
    "    gains_df = pd.DataFrame(gains, index=index)\n",
    "    gains_df.columns = [\"Gain\"]\n",
    "    return(gains_df)"
   ]
  },
  {
   "cell_type": "code",
   "execution_count": 3,
   "metadata": {},
   "outputs": [
    {
     "data": {
      "text/html": [
       "<div>\n",
       "<style scoped>\n",
       "    .dataframe tbody tr th:only-of-type {\n",
       "        vertical-align: middle;\n",
       "    }\n",
       "\n",
       "    .dataframe tbody tr th {\n",
       "        vertical-align: top;\n",
       "    }\n",
       "\n",
       "    .dataframe thead th {\n",
       "        text-align: right;\n",
       "    }\n",
       "</style>\n",
       "<table border=\"1\" class=\"dataframe\">\n",
       "  <thead>\n",
       "    <tr style=\"text-align: right;\">\n",
       "      <th></th>\n",
       "      <th>Gain</th>\n",
       "    </tr>\n",
       "  </thead>\n",
       "  <tbody>\n",
       "    <tr>\n",
       "      <th>Gender</th>\n",
       "      <td>0.048795</td>\n",
       "    </tr>\n",
       "    <tr>\n",
       "      <th>75</th>\n",
       "      <td>0.137925</td>\n",
       "    </tr>\n",
       "    <tr>\n",
       "      <th>85</th>\n",
       "      <td>0.048795</td>\n",
       "    </tr>\n",
       "    <tr>\n",
       "      <th>100</th>\n",
       "      <td>0.311278</td>\n",
       "    </tr>\n",
       "    <tr>\n",
       "      <th>150</th>\n",
       "      <td>0.137925</td>\n",
       "    </tr>\n",
       "  </tbody>\n",
       "</table>\n",
       "</div>"
      ],
      "text/plain": [
       "            Gain\n",
       "Gender  0.048795\n",
       "75      0.137925\n",
       "85      0.048795\n",
       "100     0.311278\n",
       "150     0.137925"
      ]
     },
     "execution_count": 3,
     "metadata": {},
     "output_type": "execute_result"
    }
   ],
   "source": [
    "root_gain = calculate_gain(1, data, [75, 85, 100, 150])\n",
    "root_gain"
   ]
  },
  {
   "cell_type": "code",
   "execution_count": 4,
   "metadata": {},
   "outputs": [
    {
     "data": {
      "text/html": [
       "<div>\n",
       "<style scoped>\n",
       "    .dataframe tbody tr th:only-of-type {\n",
       "        vertical-align: middle;\n",
       "    }\n",
       "\n",
       "    .dataframe tbody tr th {\n",
       "        vertical-align: top;\n",
       "    }\n",
       "\n",
       "    .dataframe thead th {\n",
       "        text-align: right;\n",
       "    }\n",
       "</style>\n",
       "<table border=\"1\" class=\"dataframe\">\n",
       "  <thead>\n",
       "    <tr style=\"text-align: right;\">\n",
       "      <th></th>\n",
       "      <th>Gain</th>\n",
       "    </tr>\n",
       "  </thead>\n",
       "  <tbody>\n",
       "    <tr>\n",
       "      <th>100</th>\n",
       "      <td>0.311278</td>\n",
       "    </tr>\n",
       "  </tbody>\n",
       "</table>\n",
       "</div>"
      ],
      "text/plain": [
       "         Gain\n",
       "100  0.311278"
      ]
     },
     "execution_count": 4,
     "metadata": {},
     "output_type": "execute_result"
    }
   ],
   "source": [
    "root_gain.loc[root_gain.idxmax()]"
   ]
  },
  {
   "cell_type": "markdown",
   "metadata": {},
   "source": [
    "So splitting on annual income with $a=100$ is the optimal root node. After splitting with this value, the group with $AI \\geq 100$ only has 2 members, both which prefer `B`. Therefore we do not need to further split this group. For the $AI < 100$ group,"
   ]
  },
  {
   "cell_type": "code",
   "execution_count": 5,
   "metadata": {},
   "outputs": [
    {
     "data": {
      "text/html": [
       "<div>\n",
       "<style scoped>\n",
       "    .dataframe tbody tr th:only-of-type {\n",
       "        vertical-align: middle;\n",
       "    }\n",
       "\n",
       "    .dataframe tbody tr th {\n",
       "        vertical-align: top;\n",
       "    }\n",
       "\n",
       "    .dataframe thead th {\n",
       "        text-align: right;\n",
       "    }\n",
       "</style>\n",
       "<table border=\"1\" class=\"dataframe\">\n",
       "  <thead>\n",
       "    <tr style=\"text-align: right;\">\n",
       "      <th></th>\n",
       "      <th>Gain</th>\n",
       "    </tr>\n",
       "  </thead>\n",
       "  <tbody>\n",
       "    <tr>\n",
       "      <th>Gender</th>\n",
       "      <td>0.044110</td>\n",
       "    </tr>\n",
       "    <tr>\n",
       "      <th>75</th>\n",
       "      <td>0.109170</td>\n",
       "    </tr>\n",
       "    <tr>\n",
       "      <th>85</th>\n",
       "      <td>0.459148</td>\n",
       "    </tr>\n",
       "  </tbody>\n",
       "</table>\n",
       "</div>"
      ],
      "text/plain": [
       "            Gain\n",
       "Gender  0.044110\n",
       "75      0.109170\n",
       "85      0.459148"
      ]
     },
     "execution_count": 5,
     "metadata": {},
     "output_type": "execute_result"
    }
   ],
   "source": [
    "data_100 = data[data[\"Income\"] < 100]\n",
    "init_100 = calculate_entropy(data_100[\"Preference\"])\n",
    "level2_gain = calculate_gain(init_100, data_100, [75, 85])\n",
    "level2_gain"
   ]
  },
  {
   "cell_type": "code",
   "execution_count": 6,
   "metadata": {},
   "outputs": [
    {
     "data": {
      "text/html": [
       "<div>\n",
       "<style scoped>\n",
       "    .dataframe tbody tr th:only-of-type {\n",
       "        vertical-align: middle;\n",
       "    }\n",
       "\n",
       "    .dataframe tbody tr th {\n",
       "        vertical-align: top;\n",
       "    }\n",
       "\n",
       "    .dataframe thead th {\n",
       "        text-align: right;\n",
       "    }\n",
       "</style>\n",
       "<table border=\"1\" class=\"dataframe\">\n",
       "  <thead>\n",
       "    <tr style=\"text-align: right;\">\n",
       "      <th></th>\n",
       "      <th>Gain</th>\n",
       "    </tr>\n",
       "  </thead>\n",
       "  <tbody>\n",
       "    <tr>\n",
       "      <th>85</th>\n",
       "      <td>0.459148</td>\n",
       "    </tr>\n",
       "  </tbody>\n",
       "</table>\n",
       "</div>"
      ],
      "text/plain": [
       "        Gain\n",
       "85  0.459148"
      ]
     },
     "execution_count": 6,
     "metadata": {},
     "output_type": "execute_result"
    }
   ],
   "source": [
    "level2_gain.loc[level2_gain.idxmax()]"
   ]
  },
  {
   "cell_type": "markdown",
   "metadata": {},
   "source": [
    "On level 2, we split on $a=85$. As with the previous split, the group with $a\\geq 85$ has 3 members, all of which prefer `H`. Therefore, there is no further splitting for this group. For the other group,"
   ]
  },
  {
   "cell_type": "code",
   "execution_count": 7,
   "metadata": {},
   "outputs": [
    {
     "data": {
      "text/html": [
       "<div>\n",
       "<style scoped>\n",
       "    .dataframe tbody tr th:only-of-type {\n",
       "        vertical-align: middle;\n",
       "    }\n",
       "\n",
       "    .dataframe tbody tr th {\n",
       "        vertical-align: top;\n",
       "    }\n",
       "\n",
       "    .dataframe thead th {\n",
       "        text-align: right;\n",
       "    }\n",
       "</style>\n",
       "<table border=\"1\" class=\"dataframe\">\n",
       "  <thead>\n",
       "    <tr style=\"text-align: right;\">\n",
       "      <th></th>\n",
       "      <th>Gain</th>\n",
       "    </tr>\n",
       "  </thead>\n",
       "  <tbody>\n",
       "    <tr>\n",
       "      <th>Gender</th>\n",
       "      <td>0.251629</td>\n",
       "    </tr>\n",
       "    <tr>\n",
       "      <th>75</th>\n",
       "      <td>0.918296</td>\n",
       "    </tr>\n",
       "  </tbody>\n",
       "</table>\n",
       "</div>"
      ],
      "text/plain": [
       "            Gain\n",
       "Gender  0.251629\n",
       "75      0.918296"
      ]
     },
     "execution_count": 7,
     "metadata": {},
     "output_type": "execute_result"
    }
   ],
   "source": [
    "data_85 = data_100[data_100[\"Income\"] < 85]\n",
    "init_85 = calculate_entropy(data_85[\"Preference\"])\n",
    "level3_gain = calculate_gain(init_85, data_85, [75])\n",
    "level3_gain "
   ]
  },
  {
   "cell_type": "code",
   "execution_count": 8,
   "metadata": {},
   "outputs": [
    {
     "data": {
      "text/html": [
       "<div>\n",
       "<style scoped>\n",
       "    .dataframe tbody tr th:only-of-type {\n",
       "        vertical-align: middle;\n",
       "    }\n",
       "\n",
       "    .dataframe tbody tr th {\n",
       "        vertical-align: top;\n",
       "    }\n",
       "\n",
       "    .dataframe thead th {\n",
       "        text-align: right;\n",
       "    }\n",
       "</style>\n",
       "<table border=\"1\" class=\"dataframe\">\n",
       "  <thead>\n",
       "    <tr style=\"text-align: right;\">\n",
       "      <th></th>\n",
       "      <th>Gain</th>\n",
       "    </tr>\n",
       "  </thead>\n",
       "  <tbody>\n",
       "    <tr>\n",
       "      <th>75</th>\n",
       "      <td>0.918296</td>\n",
       "    </tr>\n",
       "  </tbody>\n",
       "</table>\n",
       "</div>"
      ],
      "text/plain": [
       "        Gain\n",
       "75  0.918296"
      ]
     },
     "execution_count": 8,
     "metadata": {},
     "output_type": "execute_result"
    }
   ],
   "source": [
    "level3_gain.loc[level3_gain.idxmax()]"
   ]
  },
  {
   "cell_type": "markdown",
   "metadata": {},
   "source": [
    "So on level 3, we split on $a=75$. This split separates the data into 2 groups, in which the the members of the groups prefer `H` or `B`. So this is the last level and we are done."
   ]
  }
 ],
 "metadata": {
  "authors": [
   {
    "name": "Sampson Mao"
   },
   {
    "name": "samao@ucsc.edu"
   }
  ],
  "kernelspec": {
   "display_name": "Python 3",
   "language": "python",
   "name": "python3"
  },
  "language_info": {
   "codemirror_mode": {
    "name": "ipython",
    "version": 3
   },
   "file_extension": ".py",
   "mimetype": "text/x-python",
   "name": "python",
   "nbconvert_exporter": "python",
   "pygments_lexer": "ipython3",
   "version": "3.7.8"
  },
  "title": "CSE 242 Homework 2"
 },
 "nbformat": 4,
 "nbformat_minor": 4
}
